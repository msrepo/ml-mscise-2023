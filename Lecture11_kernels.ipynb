{
  "nbformat": 4,
  "nbformat_minor": 0,
  "metadata": {
    "colab": {
      "provenance": [],
      "authorship_tag": "ABX9TyNvYq21+jeEnGRafe9YpHmD",
      "include_colab_link": true
    },
    "kernelspec": {
      "name": "python3",
      "display_name": "Python 3"
    },
    "language_info": {
      "name": "python"
    }
  },
  "cells": [
    {
      "cell_type": "markdown",
      "metadata": {
        "id": "view-in-github",
        "colab_type": "text"
      },
      "source": [
        "<a href=\"https://colab.research.google.com/github/msrepo/ml-mscise-2023/blob/master/Lecture11_kernels.ipynb\" target=\"_parent\"><img src=\"https://colab.research.google.com/assets/colab-badge.svg\" alt=\"Open In Colab\"/></a>"
      ]
    },
    {
      "cell_type": "markdown",
      "source": [
        "Adapted from/Orginal notebook by: **Volodymyr Kuleshov**\n",
        "\n",
        "## Part 1: The Kernel Trick: Motivation\n",
        "\n",
        "So far, the majority of the machine learning models we have seen have been *linear*.\n",
        "\n",
        "In this lecture, we will see a general way to make many of these models *non-linear*. We will use a new idea called *kernels*.\n",
        "\n",
        "**Review: Linear Regression**\n",
        "\n",
        "Recall that a linear model has the form\n",
        "$$\n",
        " f(x) = \\sum_{j=0}^d\\theta_j\\cdot x_j =\\theta^\\top x. \n",
        "$$\n",
        "where $x$ is a vector of features and we used the notation $x_0 = 1$.\n",
        "\n",
        "We pick $\\theta$ to minimize the (L2-regularized) mean squared error (MSE). $$L(\\theta) = \\frac{1}{2n}\\sum_{i=1}^n(y^{(i)} - \\theta^\\top x^{(i)}) + \\frac{\\lambda}{2}\\sum_{j=1}^d\\theta_j^2$$\n",
        "\n",
        "**Review: Polynomial Regression**\n",
        "\n",
        "Specifically, given a 1D continuous variable $x$, we can define a feature function $\\phi: \\mathbb{R} \\to \\mathbb{R}^{p+1}$ as \n",
        "\n",
        "$$\n",
        "\\phi(x) = \n",
        "\\begin{bmatrix} 1 \\\\ x \\\\ x^2  \\\\ \\vdots \\\\x^p \\end{bmatrix} \n",
        "$$\n",
        "\n",
        "The class of models of the form \n",
        "\n",
        "$$\n",
        "f_\\theta(x) :=\\sum_{j=0}^p \\theta_p x^p = \\theta^\\top \\phi(x)\n",
        "$$\n",
        "\n",
        "**Towards general Non-Linear Features**\n",
        "\n",
        "Any non-linear feature map $\\phi(x):\\mathbb{R} \\to \\mathbb{R}^p$ can be used to obtain general models of the form $f_\\theta(x) := \\theta^\\top \\phi(x)$ that are highly non-linear in $x$ but linear in $\\theta$.\n",
        "\n",
        "**The Featurized Design Matrix**\n",
        "\n",
        "It is useful to represent the featurized dataset as a matrix $\\Phi \\in \\mathbb{R}^{n \\times p}$\n",
        "\n",
        "**Featurized Normal Equations**\n",
        "\n",
        "The normal equations provide a closed-form solution for $\\theta$.\n",
        "\n",
        "$$\n",
        "\\theta = (X^\\top X + \\lambda I)^{-1}X^\\top y\n",
        "$$\n",
        "\n",
        "When the vectors of attributes $x^{(i)}$ are featurized, we can write this as \n",
        "\n",
        "$$\n",
        "\\theta = (\\Phi^\\top \\Phi + \\lambda I)^{-1}\\Phi^\\top y\n",
        "$$\n",
        "\n",
        "**Push-Through Matrix Identity**\n",
        "\n",
        "We can modify this expression by using a version of the push-through matrix identity:\n",
        "\n",
        "$$\n",
        "(\\lambda I + UV)^{-1}U = U(\\lambda I + VU)^{-1}\n",
        "$$\n",
        "\n",
        "where $U \\in \\mathbb{R}^{n \\times m}$ and $V \\in \\mathbb{R}^{m \\times n}$ and $\\lambda \\neq 0$\n",
        "\n",
        "Proof sketch: Start with $U (\\lambda I + VU) = (\\lambda I + UV)U$ and multiply both sides by $(\\lambda I + VU)^{-1}$ on the right and $(\\lambda I + UV)^{-1}$ on the left.\n",
        "\n",
        "**Normal Equations: Dual Form**\n",
        "\n",
        "We can apply the identity (\\lambda I + UV)^{-1}U = U(\\lambda I + VU)^{-1} to the normal equations with $U=\\Phi^\\top$ and $V=\\Phi$.\n",
        "\n",
        "$$\n",
        "\\theta = (\\Phi^\\top\\Phi + \\lambda I)^{-1}\\Phi^\\top y\n",
        "$$\n",
        "\n",
        "to obtain the *dual* form\n",
        "\n",
        "$$\n",
        "\\theta = \\Phi^\\top(\\Phi\\Phi^\\top + \\lambda I)^{-1}y\n",
        "$$\n",
        "\n",
        "The first approach takes $\\mathcal{O}(p^3)$ time; the second is $\\mathcal{O}(n^3)$ as is faster when $p>n$.\n",
        "\n",
        "## Part 2: Kernel method: An Example\n",
        "\n",
        "Many ML algorithms can be written down as optimization problems in which the features $\\phi(x)$ only appear as dot products $\\phi(x)^T \\phi(z)$ that can be computed efficiently.\n",
        "\n",
        "Lets look at an example.\n",
        "\n",
        "Can we compute the dot product $\\phi(x)^T\\phi(x')$ of polynomial features $\\phi(x)$ more efficiently than using the standard definition of a dot product? \n",
        "\n",
        "To start, consider polynomial features $\\phi: \\mathbb{R}^d \\to \\mathbb{R}^{d^2}$ of the form\n",
        "\n",
        "$$\n",
        "\\phi(x)_{ij} = x_i x_j \\;\\text{for}\\; i,j \\in \\{1,2,\\ldots,d\\}\n",
        "$$"
      ],
      "metadata": {
        "id": "lnSJGPxg6x5r"
      }
    },
    {
      "cell_type": "markdown",
      "source": [
        "**Definition: Kernels**\n",
        "\n",
        "The *kernel* corresponding to features $\\phi(x)$ is a function $K:\\mathcal{X} \\times \\mathcal{X} \\to [0,\\infty]$ that outputs dot products between vectors in $\\mathcal{X}$\n",
        "\n",
        "$$\n",
        " K(x,z) = \\phi(x)^T \\phi(z)\n",
        "$$\n",
        "\n",
        "Kernels have various interpretations:\n",
        " - The dot product or geomerical angle between $x$ and $z$\n",
        " - a notion of similarity between $x$ and $z$\n",
        "\n",
        "In order to illustrate kernels, we will use this dataset."
      ],
      "metadata": {
        "id": "zdMvHYNmdQ6Y"
      }
    },
    {
      "cell_type": "code",
      "source": [
        "import numpy as np\n",
        "import matplotlib.pyplot as plt\n",
        "from sklearn import svm\n",
        "\n",
        "%matplotlib inline\n",
        "\n",
        "# our dataset and targets\n",
        "X = np.c_[(.4, -.7), (-1.5, -1), (-1.4, -.9), (-1.3, -1.2), (-1.1, -.2), (-1.2, -.4), (-.5, 1.2), (-1.5, 2.1), (1, 1),\n",
        "          (1.3, .8), (1.2, .5), (.2, -2), (.5, -2.4), (.2, -2.3), (0, -2.7), (1.3, 2.1)].T\n",
        "Y = [0] * 8 + [1] * 8\n",
        "\n",
        "x_min, x_max = -3, 3\n",
        "y_min, y_max = -3, 3\n",
        "plt.scatter(X[:, 0], X[:, 1], c=Y, cmap=plt.cm.Paired, edgecolors='k', s=80)\n",
        "plt.xlim(x_min, x_max)\n",
        "plt.ylim(y_min, y_max)"
      ],
      "metadata": {
        "colab": {
          "base_uri": "https://localhost:8080/",
          "height": 287
        },
        "id": "fnSKcKHEXGTz",
        "outputId": "8b1d3683-f17a-405b-fac1-ddaa078581a5"
      },
      "execution_count": 2,
      "outputs": [
        {
          "output_type": "execute_result",
          "data": {
            "text/plain": [
              "(-3.0, 3.0)"
            ]
          },
          "metadata": {},
          "execution_count": 2
        },
        {
          "output_type": "display_data",
          "data": {
            "text/plain": [
              "<Figure size 432x288 with 1 Axes>"
            ],
            "image/png": "[encoded data removed]"
          },
          "metadata": {
            "needs_background": "light"
          }
        }
      ]
    },
    {
      "cell_type": "markdown",
      "source": [
        "**Example: Linear Kernel**\n",
        "\n",
        "The simplest kind of kernel that exists is called the linear kernel. This simply corresponds to dot product multiplication of the features.\n",
        "\n",
        "$$\n",
        "K(x,z) = x^Tz\n",
        "$$\n",
        "\n",
        "Applied to an SVM, this corresponds to a linear decision boundary.\n",
        "\n",
        "Below is an example of how we can use the SVM implementation in `sklearn` with a linear kernel.\n",
        "\n",
        "Internally, this solves the dual SVM optimization problem."
      ],
      "metadata": {
        "id": "rxpVc0JVemO0"
      }
    },
    {
      "cell_type": "code",
      "source": [
        "clf = svm.SVC(kernel='linear', gamma=2)\n",
        "clf.fit(X,Y)\n",
        "\n",
        "# plot the line, the points, and the nearest vectos to the plane\n",
        "plt.scatter(clf.support_vectors_[:,0],clf.support_vectors_[:,1],s=80,zorder=10,facecolors='none',edgecolors='k')\n",
        "plt.scatter(X[:,0],X[:,1],c=Y,cmap=plt.cm.Paired,zorder = 10, edgecolor='k')\n",
        "XX,YY = np.mgrid[x_min:x_max:200j, y_min:y_max:200j]\n",
        "Z = clf.decision_function(np.c_[XX.ravel(), YY.ravel()])\n",
        "\n",
        "# put the result into a color plot\n",
        "Z = Z.reshape(XX.shape)\n",
        "plt.pcolormesh(XX, YY, Z > 0, cmap = plt.cm.Paired)\n",
        "plt.contour(XX, YY, Z, colors=['k','k','k'],linestyles=['--','-','--'],levels=[-0.5,0,0.5])\n",
        "_"
      ],
      "metadata": {
        "colab": {
          "base_uri": "https://localhost:8080/",
          "height": 287
        },
        "id": "OUXgj4NMXGQi",
        "outputId": "4da2ee25-ec48-468b-87e4-67d649a53722"
      },
      "execution_count": 10,
      "outputs": [
        {
          "output_type": "execute_result",
          "data": {
            "text/plain": [
              "(-3.0, 3.0)"
            ]
          },
          "metadata": {},
          "execution_count": 10
        },
        {
          "output_type": "display_data",
          "data": {
            "text/plain": [
              "<Figure size 432x288 with 1 Axes>"
            ],
            "image/png": "[encoded data removed]"
          },
          "metadata": {
            "needs_background": "light"
          }
        }
      ]
    },
    {
      "cell_type": "code",
      "source": [
        "\n",
        "\n"
      ],
      "metadata": {
        "id": "Fw59xgjf7Avu"
      },
      "execution_count": null,
      "outputs": []
    }
  ]
}