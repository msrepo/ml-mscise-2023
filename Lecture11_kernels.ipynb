{
  "nbformat": 4,
  "nbformat_minor": 0,
  "metadata": {
    "colab": {
      "provenance": [],
      "authorship_tag": "ABX9TyOE4JpmNwgp/rZxr5XX9ToB",
      "include_colab_link": true
    },
    "kernelspec": {
      "name": "python3",
      "display_name": "Python 3"
    },
    "language_info": {
      "name": "python"
    }
  },
  "cells": [
    {
      "cell_type": "markdown",
      "metadata": {
        "id": "view-in-github",
        "colab_type": "text"
      },
      "source": [
        "<a href=\"https://colab.research.google.com/github/msrepo/ml-mscise-2023/blob/master/Lecture11_kernels.ipynb\" target=\"_parent\"><img src=\"https://colab.research.google.com/assets/colab-badge.svg\" alt=\"Open In Colab\"/></a>"
      ]
    },
    {
      "cell_type": "markdown",
      "source": [
        "Adapted from/Orginal notebook by: **Volodymyr Kuleshov**\n",
        "\n",
        "## Part 1: The Kernel Trick: Motivation\n",
        "\n",
        "So far, the majority of the machine learning models we have seen have been *linear*.\n",
        "\n",
        "In this lecture, we will see a general way to make many of these models *non-linear*. We will use a new idea called *kernels*.\n",
        "\n",
        "**Review: Linear Regression**\n",
        "\n",
        "Recall that a linear model has the form\n",
        "$$\n",
        " f(x) = \\sum_{j=0}^d\\theta_j\\cdot x_j =\\theta^\\top x. \n",
        "$$\n",
        "where $x$ is a vector of features and we used the notation $x_0 = 1$.\n",
        "\n",
        "We pick $\\theta$ to minimize the (L2-regularized) mean squared error (MSE). $$L(\\theta) = \\frac{1}{2n}\\sum_{i=1}^n(y^{(i)} - \\theta^\\top x^{(i)}) + \\frac{\\lambda}{2}\\sum_{j=1}^d\\theta_j^2$$\n",
        "\n",
        "**Review: Polynomial Regression**\n",
        "\n",
        "Specifically, given a 1D continuous variable $x$, we can define a feature function $\\phi: \\mathbb{R} \\to \\mathbb{R}^{p+1}$ as \n",
        "\n",
        "$$\n",
        "\\phi(x) = \n",
        "\\begin{bmatrix} 1 \\\\ x \\\\ x^2  \\\\ \\vdots \\\\x^p \\end{bmatrix} \n",
        "$$\n",
        "\n",
        "The class of models of the form \n",
        "\n",
        "$$\n",
        "f_\\theta(x) :=\\sum_{j=0}^p \\theta_p x^p = \\theta^\\top \\phi(x)\n",
        "$$\n",
        "\n",
        "**Towards general Non-Linear Features**\n",
        "\n",
        "Any non-linear feature map $\\phi(x):\\mathbb{R} \\to \\mathbb{R}^p$ can be used to obtain general models of the form $f_\\theta(x) := \\theta^\\top \\phi(x)$ that are highly non-linear in $x$ but linear in $\\theta$.\n",
        "\n",
        "**The Featurized Design Matrix**\n",
        "\n",
        "It is useful to represent the featurized dataset as a matrix $\\Phi \\in \\mathbb{R}^{n \\times p}$\n",
        "\n",
        "**Featurized Normal Equations**\n",
        "\n",
        "The normal equations provide a closed-form solution for $\\theta$.\n",
        "\n",
        "$$\n",
        "\\theta = (X^\\top X + \\lambda I)^{-1}X^\\top y\n",
        "$$\n",
        "\n",
        "When the vectors of attributes $x^{(i)}$ are featurized, we can write this as \n",
        "\n",
        "$$\n",
        "\\theta = (\\Phi^\\top \\Phi + \\lambda I)^{-1}\\Phi^\\top y\n",
        "$$\n",
        "\n",
        "**Push-Through Matrix Identity**\n",
        "\n",
        "We can modify this expression by using a version of the push-through matrix identity:\n",
        "\n",
        "$$\n",
        "(\\lambda I + UV)^{-1}U = U(\\lambda I + VU)^{-1}\n",
        "$$\n",
        "\n",
        "where $U \\in \\mathbb{R}^{n \\times m}$ and $V \\in \\mathbb{R}^{m \\times n}$ and $\\lambda \\neq 0$\n",
        "\n",
        "Proof sketch: Start with $U (\\lambda I + VU) = (\\lambda I + UV)U$ and multiply both sides by $(\\lambda I + VU)^{-1}$ on the right and $(\\lambda I + UV)^{-1}$ on the left."
      ],
      "metadata": {
        "id": "lnSJGPxg6x5r"
      }
    },
    {
      "cell_type": "code",
      "source": [
        "\n",
        "\n"
      ],
      "metadata": {
        "id": "Fw59xgjf7Avu"
      },
      "execution_count": null,
      "outputs": []
    }
  ]
}