{
  "nbformat": 4,
  "nbformat_minor": 0,
  "metadata": {
    "colab": {
      "provenance": [],
      "authorship_tag": "ABX9TyMX6aiB+moU8ihF/OTFHtCo",
      "include_colab_link": true
    },
    "kernelspec": {
      "name": "python3",
      "display_name": "Python 3"
    },
    "language_info": {
      "name": "python"
    }
  },
  "cells": [
    {
      "cell_type": "markdown",
      "metadata": {
        "id": "view-in-github",
        "colab_type": "text"
      },
      "source": [
        "<a href=\"https://colab.research.google.com/github/msrepo/ml-mscise-2023/blob/master/prerequisites/Optimization_and_Linear_Regression.ipynb\" target=\"_parent\"><img src=\"https://colab.research.google.com/assets/colab-badge.svg\" alt=\"Open In Colab\"/></a>"
      ]
    },
    {
      "cell_type": "markdown",
      "source": [
        "Adapted from (mostly change in notation so that the notebook follows our course notes): https://github.com/kuleshov/cornell-cs5785-2020-applied-ml/blob/main/notebooks/lecture3-linear-regression.ipynb\n",
        "\n",
        "Orginal Notebook by:\n",
        "\n",
        "**Volodymyr Kuleshov**\n",
        "\n",
        "Cornell Tech"
      ],
      "metadata": {
        "id": "H1_KcNhy3Weu"
      }
    },
    {
      "cell_type": "markdown",
      "source": [
        "**Part 1: Optimization and Calculus Background**\n",
        "\n",
        "We will first dive deeper into the question of optimization.\n",
        "\n",
        "**Review: Components of a supervised machine learning problem**\n",
        "\n",
        "At a high level, a supervised machine learning problem has the following structure:\n",
        "\n",
        "$Dataset+Learning Algorithm → Predictive Model$\n",
        "\n",
        "The predictive model is choosen to model the relationship between inputs and targets. For instance, it can predict future targets.\n",
        "\n",
        "\n",
        "**Optimization: Notation**\n",
        "At a high-level an optimizer takes\n",
        "- a cost(loss) function $L$ and\n",
        "- a model class $M$ and finds a model $f_Θ \\in M$ with the smallest value of the cost function $L$\n",
        "\n",
        "\\begin{align}\n",
        " \\min_{f_Θ\\in M}L(f)\n",
        "\\end{align}\n",
        "\n",
        "Intuitively, this is the function that best \"fits\" the data on the training dataset $D = \\{(x_i,y_i)| i=1,2,...,n\\}$.\n",
        "\n",
        "We will use a quadratic function as our running example for the cost function $L$."
      ],
      "metadata": {
        "id": "3jlmtat6r2gl"
      }
    },
    {
      "cell_type": "code",
      "source": [
        "import numpy as np\n",
        "import matplotlib.pyplot as plt\n"
      ],
      "metadata": {
        "id": "FRTfotQBsEoh"
      },
      "execution_count": 49,
      "outputs": []
    },
    {
      "cell_type": "code",
      "source": [
        "def quadratic_function(theta):\n",
        "  \"\"\" y = f(x) = aθ^2 + bθ + c \"\"\"\n",
        "  return 0.5 * (2*theta - 1)**2"
      ],
      "metadata": {
        "id": "aKMvFhpFub31"
      },
      "execution_count": 50,
      "outputs": []
    },
    {
      "cell_type": "markdown",
      "source": [
        "We can visualize it."
      ],
      "metadata": {
        "id": "egKShBiKu2C5"
      }
    },
    {
      "cell_type": "code",
      "source": [
        "# first construct a grid of theta1 parameter pairs and their corresponding\n",
        "# cost function values\n",
        "thetas = np.linspace(-0.2,1,10)\n",
        "f_vals = quadratic_function(thetas[:np.newaxis])\n",
        "\n",
        "plt.plot(thetas,f_vals)\n",
        "plt.xlabel('Theta')\n",
        "plt.ylabel('Objective value')\n",
        "plt.title('Simple quadratic_function')"
      ],
      "metadata": {
        "colab": {
          "base_uri": "https://localhost:8080/",
          "height": 313
        },
        "id": "VGGlTf_kuyfs",
        "outputId": "83540229-e37e-4b4a-adc4-4b71c0b055f3"
      },
      "execution_count": 51,
      "outputs": [
        {
          "output_type": "execute_result",
          "data": {
            "text/plain": [
              "Text(0.5, 1.0, 'Simple quadratic_function')"
            ]
          },
          "metadata": {},
          "execution_count": 51
        },
        {
          "output_type": "display_data",
          "data": {
            "text/plain": [
              "<Figure size 432x288 with 1 Axes>"
            ],
            "image/png": "[encoded data removed]"
          },
          "metadata": {
            "needs_background": "light"
          }
        }
      ]
    },
    {
      "cell_type": "markdown",
      "source": [
        "**Calculus Review: Derivatives**\n",
        "Recall that the derivative\n",
        "\\begin{equation*}\n",
        "\\frac{df(θ_0)}{dθ}\n",
        "\\end{equation*}\n",
        "of a univariate function $f:ℝ → ℝ$ is the instantaneous rate of change of the function $f(θ)$ with respect to its parameter $θ$ at the point $θ_0$."
      ],
      "metadata": {
        "id": "LPERi3xbvkLs"
      }
    },
    {
      "cell_type": "code",
      "source": [
        "def quadratic_derivative(theta):\n",
        "  return (2*theta-1)*2\n",
        "\n",
        "dfθ = quadratic_derivative(np.array([[0]])) # derivative at zero\n",
        "fθ = quadratic_function(np.array([[0]]))\n",
        "line_length = 0.2\n",
        "\n",
        "plt.plot(thetas,f_vals)\n",
        "plt.annotate('',xytext=(0 - line_length,fθ - line_length*dfθ), xy = (0+line_length,fθ+line_length*dfθ),\n",
        "             arrowprops={'arrowstyle':'-','lw':1.5},va='center',ha='center')\n",
        "plt.xlabel('Theta')\n",
        "plt.ylabel('value of cost function')\n",
        "plt.title('Simple quadratic function')\n"
      ],
      "metadata": {
        "colab": {
          "base_uri": "https://localhost:8080/",
          "height": 313
        },
        "id": "1XIUKCbPwiyl",
        "outputId": "d6df6c78-7f5c-4cf6-c3b7-2993141de66c"
      },
      "execution_count": 52,
      "outputs": [
        {
          "output_type": "execute_result",
          "data": {
            "text/plain": [
              "Text(0.5, 1.0, 'Simple quadratic function')"
            ]
          },
          "metadata": {},
          "execution_count": 52
        },
        {
          "output_type": "display_data",
          "data": {
            "text/plain": [
              "<Figure size 432x288 with 1 Axes>"
            ],
            "image/png": "[encoded data removed]"
          },
          "metadata": {
            "needs_background": "light"
          }
        }
      ]
    },
    {
      "cell_type": "code",
      "source": [
        "pts = np.array([0,0.5,0.8]).reshape((3,1))\n",
        "dfθs = quadratic_derivative(pts)\n",
        "fθs = quadratic_function(pts)\n",
        "\n",
        "plt.plot(thetas,f_vals)\n",
        "for pt,f0,df0 in zip(pts.flatten(),fθs.flatten(),dfθs.flatten()):\n",
        "  plt.annotate('',xytext=(pt-line_length, f0-line_length*df0),\n",
        "               xy=(pt+line_length, f0+line_length*df0),\n",
        "    arrowprops={'lw':1,'arrowstyle':'-'},va='center',ha='center')\n",
        "plt.xlabel('Theta')\n",
        "plt.ylabel('Objective value')\n",
        "plt.title('Simple quadratic function')"
      ],
      "metadata": {
        "colab": {
          "base_uri": "https://localhost:8080/",
          "height": 313
        },
        "id": "m3yB-8AYxLU3",
        "outputId": "2dc30c90-5d1d-4bd5-c055-8a6cec6d04ff"
      },
      "execution_count": 53,
      "outputs": [
        {
          "output_type": "execute_result",
          "data": {
            "text/plain": [
              "Text(0.5, 1.0, 'Simple quadratic function')"
            ]
          },
          "metadata": {},
          "execution_count": 53
        },
        {
          "output_type": "display_data",
          "data": {
            "text/plain": [
              "<Figure size 432x288 with 1 Axes>"
            ],
            "image/png": "[encoded data removed]"
          },
          "metadata": {
            "needs_background": "light"
          }
        }
      ]
    },
    {
      "cell_type": "markdown",
      "source": [
        "**Calculus Review: Partial Derivatives**\n",
        "\n",
        "The partial derivative\n",
        "$$ \n",
        "\\frac{∂f(\\theta_0)}{∂θ_j}\n",
        "$$\n",
        "of a multivariate function $f:ℝ^d → ℝ$ is the derivative of $f$ with respect to $θ_j$ while all other inputs $\\theta_k$ for $k\\neq j$ are fixed."
      ],
      "metadata": {
        "id": "1ZfxD-PJ2P2e"
      }
    },
    {
      "cell_type": "markdown",
      "source": [
        "**Calculus Review: The Gradient**\n",
        "\n",
        "The gradient $∇_\\theta f$ further extends the derivative to multivariate functions $f:ℝ^d→ℝ$, and is defined at a point $θ_0$ as \n",
        "$$\n",
        "∇_\\theta f(\\theta_0) = \n",
        "\\begin{pmatrix}\n",
        "\\frac{∂f(\\theta_0)}{∂θ_0} \\\\\n",
        "\\frac{∂f(\\theta_0)}{∂θ_1} \\\\\n",
        "\\vdots \\\\\n",
        "\\frac{∂f(\\theta_0)}{∂θ_d}\n",
        "\\end{pmatrix}\n",
        "$$\n",
        "\n",
        "The j-th entry of the vector $∇_\\theta f(\\theta_0)$ is the partial derivative $\\frac{∂f(\\theta_0)}{∂θ_j}$ of $f$ with respect to the j-th component of θ.\n",
        "\n",
        "We will use a quadratic function as a running example."
      ],
      "metadata": {
        "id": "xOSYdn5o4cHN"
      }
    },
    {
      "cell_type": "code",
      "source": [
        "def quadratic_function2d(theta0,theta1):\n",
        "  \"\"\"Quadratic cost function, L(theta0, theta1)\n",
        "\n",
        "  The inputs theta0, theta1 are 2d arrays and we evaluate\n",
        "  the objective at each value theta0[i,j], theta1[i,j].\n",
        "  We implement it this way so it is easier to plot the \n",
        "  level curves of the function in 2d.\n",
        "\n",
        "  Parameters:\n",
        "  theta0 (np.array): 2d array of first parameter theta0\n",
        "  theta1 (np.array): 2d array of second parameter theta1\n",
        "\n",
        "  Returns:\n",
        "  fvals (np.array): 2d array of objective function values\n",
        "    fvals is the same dimension as theta0 and theta1.\n",
        "    fvals[i,j] is the value at theta0[i,j] and theta1[i,j]\n",
        "  \"\"\"\n",
        "  theta0 = np.atleast_2d(np.asarray(theta0))\n",
        "  theta1 = np.atleast_2d(np.array(theta1))\n",
        "  return 0.5 * ((2*theta1 - 2)**2 + (theta0-3)**2)\n",
        "  "
      ],
      "metadata": {
        "id": "gxk5ir8t5G5y"
      },
      "execution_count": 54,
      "outputs": []
    },
    {
      "cell_type": "markdown",
      "source": [
        "Let's visualize this function."
      ],
      "metadata": {
        "id": "ESVvVBYt60Xt"
      }
    },
    {
      "cell_type": "code",
      "source": [
        "theta0_grid = np.linspace(-4,7,101)\n",
        "theta1_grid = np.linspace(-1,4,101)\n",
        "theta_grid = theta0_grid[np.newaxis,:],theta1_grid[:,np.newaxis]\n",
        "L_grid = quadratic_function2d(theta0_grid[np.newaxis,:],theta1_grid[:,np.newaxis])\n",
        "\n",
        "X,Y = np.meshgrid(theta0_grid, theta1_grid)\n",
        "contours = plt.contour(X,Y,L_grid,10)\n",
        "plt.clabel(contours)\n",
        "plt.axis('equal')"
      ],
      "metadata": {
        "colab": {
          "base_uri": "https://localhost:8080/",
          "height": 285
        },
        "id": "FKTUNTQo64cn",
        "outputId": "725382d6-9ec5-4a0d-9437-0a51aa2428d8"
      },
      "execution_count": 55,
      "outputs": [
        {
          "output_type": "execute_result",
          "data": {
            "text/plain": [
              "(-4.0, 7.0, -1.0, 4.0)"
            ]
          },
          "metadata": {},
          "execution_count": 55
        },
        {
          "output_type": "display_data",
          "data": {
            "text/plain": [
              "<Figure size 432x288 with 1 Axes>"
            ],
            "image/png": "[encoded data removed]"
          },
          "metadata": {
            "needs_background": "light"
          }
        }
      ]
    },
    {
      "cell_type": "markdown",
      "source": [
        "Let's write down the derivative of the quadratic function."
      ],
      "metadata": {
        "id": "rJjZ6zav7aPv"
      }
    },
    {
      "cell_type": "code",
      "source": [
        "def quadratic_derivative2d(theta0, theta1):\n",
        "  \"\"\" Derviative of quadratic loss function\n",
        "  \n",
        "  The inputs theta0, theta1 are 1d arrays and we evaluate\n",
        "  the derivative at each value theta0[i],theta1[i].\n",
        "\n",
        "  Parameters:\n",
        "  theta0 (np.array): 1d array of first parameter theta0\n",
        "  theta1 (np.array): 1d array of seconda parameter theta1\n",
        "\n",
        "  Returns:\n",
        "  grads (np.array): 2d array of partial derivatives.\n",
        "    grads is of the same size as theta0 and theta1\n",
        "    along first dimension and of size two along the second\n",
        "    dimension.\n",
        "    grads[i,j] is the j-th partial derivative at input theta0[i],theta1[j]\n",
        "  \"\"\"\n",
        "  grads = np.stack([theta0 -3, (2*theta1 - 2)*2],axis=1)\n",
        "  grads = grads.reshape([len(theta0),2])\n",
        "  return grads"
      ],
      "metadata": {
        "id": "ht6z7c8GJ02T"
      },
      "execution_count": 56,
      "outputs": []
    },
    {
      "cell_type": "markdown",
      "source": [
        "We can visualize the derivative."
      ],
      "metadata": {
        "id": "waVCcAjoLIPx"
      }
    },
    {
      "cell_type": "code",
      "source": [
        "theta0_pts, theta1_pts = np.array([2.3, -1.35, -2.3]), np.array([2.4, -0.15, 2.75])\n",
        "dfs = quadratic_derivative2d(theta0_pts, theta1_pts)\n",
        "line_length = 0.2\n",
        "\n",
        "contours = plt.contour(X,Y,L_grid,10)\n",
        "for theta0_pt, theta1_pt, df0 in zip(theta0_pts, theta1_pts, dfs):\n",
        "  plt.annotate('',xytext =(theta0_pt, theta1_pt),\n",
        "               xy =(theta0_pt-line_length*df0[0],theta1_pt - line_length*df0[1]),\n",
        "               arrowprops={'arrowstyle':'->'},va='center',ha='center')\n",
        "plt.scatter(theta0_pts, theta1_pts)\n",
        "plt.clabel(contours)\n",
        "plt.xlabel('Theta0')\n",
        "plt.ylabel('Theta1')\n",
        "plt.title('Gradients of the quadratic function')\n",
        "plt.axis('equal')"
      ],
      "metadata": {
        "colab": {
          "base_uri": "https://localhost:8080/",
          "height": 313
        },
        "id": "RlMNyc8tLcCP",
        "outputId": "540520ac-5ed9-4a06-d352-de9b6e73e3d5"
      },
      "execution_count": 57,
      "outputs": [
        {
          "output_type": "execute_result",
          "data": {
            "text/plain": [
              "(-4.0, 7.0, -1.0, 4.0)"
            ]
          },
          "metadata": {},
          "execution_count": 57
        },
        {
          "output_type": "display_data",
          "data": {
            "text/plain": [
              "<Figure size 432x288 with 1 Axes>"
            ],
            "image/png": "[encoded data removed]"
          },
          "metadata": {
            "needs_background": "light"
          }
        }
      ]
    },
    {
      "cell_type": "markdown",
      "source": [
        "## **Part 1b: Gradient Descent**\n",
        "\n",
        "Next, we will use gradients to define an important algorithm called gradient descent.\n",
        "\n",
        "**Gradient Descent: Intuition*\n",
        "\n",
        "Gradient descent is a very common optimization algorithm used in machine learning.\n",
        "\n",
        "The intuition behind gradient descent is to repeatedly obtain the gradient to determine the direction in which the function decreases most steeply and take a step in that direction.\n",
        "\n",
        "**Gradient Descent: Notation**\n",
        "More formally, if we want to optimize $L(\\theta)$, we start with an initial guess $\\theta_0$ for the parameters and repeat the following update until $\\theta$ is no longer changing:\n",
        "\n",
        "$$\n",
        "\\theta_i = \\theta_{i-1} - α * \\nabla_\\theta L(\\theta_{i-1})\n",
        "$$\n",
        "\n",
        "As code, this method may look as follows:\n",
        "\n",
        "```python\n",
        "theta, theta_prev = random_initialization()\n",
        "while norm(theta - theta_prev) > convergence_threshold:\n",
        "  theta_prev = theta\n",
        "  theta = theta_prev - step_size * gradient(theta_prev)\n",
        "```\n",
        "In the above algorithm, we stop when $||\\theta_i - \\theta_{i-1}||$ is small.\n",
        "\n",
        "It is easy to implement this function in numpy."
      ],
      "metadata": {
        "id": "CAf8M92gMTqQ"
      }
    },
    {
      "cell_type": "code",
      "source": [
        "convergence_threshold = 2e-1\n",
        "step_size = 2e-1\n",
        "theta, theta_prev = np.array([[-2],[3]]), np.array([[0],[0]])\n",
        "opt_pts = [theta.flatten()]\n",
        "opt_grads = []\n",
        "\n",
        "while np.linalg.norm(theta - theta_prev) > convergence_threshold:\n",
        "  # we repeat this while the value of the function is decreasing\n",
        "  theta_prev = theta\n",
        "  gradient = quadratic_derivative2d(*theta).reshape([2,1])\n",
        "  theta = theta_prev - step_size * gradient\n",
        "  opt_pts += [theta.flatten()]\n",
        "  opt_grads += [gradient.flatten()]\n",
        "  "
      ],
      "metadata": {
        "id": "aHmYASIeQlfn"
      },
      "execution_count": 58,
      "outputs": []
    },
    {
      "cell_type": "markdown",
      "source": [
        "We can now visuallize gradient descent."
      ],
      "metadata": {
        "id": "a5lhebCERscJ"
      }
    },
    {
      "cell_type": "code",
      "source": [
        "opt_pts = np.array(opt_pts)\n",
        "opt_grads = np.array(opt_grads)\n",
        "\n",
        "contours = plt.contour(X,Y,L_grid,10)\n",
        "plt.clabel(contours)\n",
        "plt.scatter(opt_pts[:,0],opt_pts[:,1])\n",
        "\n",
        "for opt_pt, opt_grad in zip(opt_pts,opt_grads):\n",
        "  plt.annotate('',xytext=(opt_pt[0],opt_pt[1]),\n",
        "               xy= (opt_pt[0]-0.8*step_size*opt_grad[0], opt_pt[1] - 0.8*step_size*opt_grad[1]),\n",
        "               arrowprops ={'arrowstyle':'->'},va='center',ha='center')\n",
        "plt.axis('equal')"
      ],
      "metadata": {
        "colab": {
          "base_uri": "https://localhost:8080/",
          "height": 285
        },
        "id": "uh64xTwnRxiS",
        "outputId": "a9380416-d997-4835-948b-a1da5bb934c3"
      },
      "execution_count": 59,
      "outputs": [
        {
          "output_type": "execute_result",
          "data": {
            "text/plain": [
              "(-4.0, 7.0, -1.0, 4.0)"
            ]
          },
          "metadata": {},
          "execution_count": 59
        },
        {
          "output_type": "display_data",
          "data": {
            "text/plain": [
              "<Figure size 432x288 with 1 Axes>"
            ],
            "image/png": "[encoded data removed]"
          },
          "metadata": {
            "needs_background": "light"
          }
        }
      ]
    },
    {
      "cell_type": "markdown",
      "source": [
        "## Part 2: Gradient Descent in Linear Models\n",
        "\n",
        "Lets now use gradient descent to derive a supervised learning algorithm for linear models.\n",
        "\n",
        "** Review: Linear Model family **\n",
        "Recall that a linear model has the form\n",
        "$$ y = \\theta_0 + \\theta_1*x_1 + \\theta_2*x_2+\\ldots+\\theta_d*x_d$$\n",
        "where $x\\inℝ^d$ is a vector of features(attributes) and $y$ is the target. The $\\theta_j$ are the parameters of the model.\n",
        "\n",
        "By using the notation $x_0=1$, we can represent the model in a vectorized form\n",
        "\n",
        "$$f_θ(x) = ∑_{j=0}^{d}θ_j*x_j = \\Theta^Tx$$\n",
        "\n",
        "Lets define our model in Python."
      ],
      "metadata": {
        "id": "DHoQ9Ey4SX_E"
      }
    },
    {
      "cell_type": "code",
      "source": [
        "def f(X,theta):\n",
        "  \"\"\" The linear model we are trying to fit.\n",
        "\n",
        "  Parameters:\n",
        "  theta (np.array): d-dimensional vector of parameters\n",
        "  X (np.array): (n,d)-dimensional data matrix\n",
        "\n",
        "  Returns:\n",
        "  y_pred (np.array): n-dimensional vector of predicted targets\n",
        "  \"\"\"\n",
        "  return X.dot(theta)"
      ],
      "metadata": {
        "id": "HOkgAuXvUUd_"
      },
      "execution_count": 60,
      "outputs": []
    },
    {
      "cell_type": "markdown",
      "source": [
        "**A Cost(loss) function: Mean Squared Error**\n",
        "We pick θ to minimize the mean squared error (MSE). Slight variants of this cost function are also known as the residual sum of squares (RSS) or the sum of squared residuals(SSR).\n",
        "\n",
        "$$\n",
        "L(θ) = \\frac{1}{n}∑_{i=1}^n(y^{(i)} - Θ^Tx^{(i)})^2\n",
        "$$\n",
        "\n",
        "In other words, we are looking for the best compromise in Θ over all the data points.\n",
        "\n",
        "Lets implement mean squared error."
      ],
      "metadata": {
        "id": "xNsGkB4jUrVG"
      }
    },
    {
      "cell_type": "code",
      "source": [
        "def mean_squared_error(theta,X,y):\n",
        "  \"\"\" The cost function, L, describing the goodness of fit.\n",
        "  Parameters:\n",
        "  theta (np.array): d-dimensional vector of parameters\n",
        "  X (np.array): (n,d)-dimensional design matrix\n",
        "  y (np.array): n-dimensional vector of targets\n",
        "  \"\"\"\n",
        "  return 0.5*np.mean((y-f(X,theta))**2)"
      ],
      "metadata": {
        "id": "F2Dda3v0Um06"
      },
      "execution_count": 73,
      "outputs": []
    },
    {
      "cell_type": "markdown",
      "source": [
        "**Mean Squared Error: Partial Derivatives**\n",
        "\n",
        "Lets work out what a partial derivative is for the MSE error loss for a linear model.\n",
        "\n",
        "\\begin{align}\n",
        "  \\frac{∂L(θ)}{∂θ_j} &=  \\frac{∂}{∂\\theta_j}(f_θ(x)-y)^2 \\\\\n",
        "  &= (f_θ(x)-y)*\\frac{∂}{∂θ_j}(f_θ(x)-y)\\\\\n",
        "  &= (f_θ(x)-y)*\\frac{∂}{∂θ_j}(∑_{k=0}^d(\\theta_k*x_k)-y)\\\\\n",
        "    &= (f_θ(x)-y)*x_j\\\\\n",
        "\\end{align}"
      ],
      "metadata": {
        "id": "XklxK-wTV4JG"
      }
    },
    {
      "cell_type": "markdown",
      "source": [
        "**Mean Squared Error: The Gradient**\n",
        "\n",
        "We can use this derivation to obtain an expression for the gradient of the MSE for a linear model.\n",
        "\n",
        "$$\n",
        "∇_\\theta L(\\theta) = \n",
        "\\begin{pmatrix}\n",
        "\\frac{∂f(\\theta)}{∂θ_0} \\\\\n",
        "\\frac{∂f(\\theta)}{∂θ_1} \\\\\n",
        "\\vdots \\\\\n",
        "\\frac{∂f(\\theta)}{∂θ_d}\n",
        "\\end{pmatrix}\n",
        "= \n",
        "\\begin{pmatrix}\n",
        "(f_θ(x)-y)*x_1 \\\\\n",
        "(f_θ(x)-y)*x_2 \\\\\n",
        "\\vdots \\\\\n",
        "(f_θ(x)-y)*x_d\n",
        "\\end{pmatrix}\n",
        "=(f_θ(x)-y)*\\boldsymbol{x} \\\\\n",
        "$$\n",
        "\n",
        "Let's implement the gradient."
      ],
      "metadata": {
        "id": "NP6UhwRGXgBf"
      }
    },
    {
      "cell_type": "code",
      "source": [
        "def mse_gradient(theta,X,y):\n",
        "  \"\"\" The gradient of the cost function\n",
        "\n",
        "  Parameters:\n",
        "  theta (np.array): d-dimensional vector of parameters\n",
        "  X (np.array): (n,d)-dimensional design matrix\n",
        "  y (np.array): n-dimensional vector of targets\n",
        "\n",
        "  Returns:\n",
        "  grad (np.array): d-dimensional gradient of the MSE\n",
        "  \"\"\"\n",
        "  return np.mean((f(X,theta)-y)*X.T, axis = 1)"
      ],
      "metadata": {
        "id": "KTd0b207Y-bF"
      },
      "execution_count": 74,
      "outputs": []
    },
    {
      "cell_type": "markdown",
      "source": [
        "**The UCI Diabetes Dataset**\n",
        "In this section, we are going to use the UCI Diabetes Dataset.\n",
        "\n",
        "- for each patient, we have access to a measurement of their body mass index(BMI) and a quantitative diabetes risk score (0-300)\n",
        "- We are interested in understanding how BMI affects an individual's diabetes risk."
      ],
      "metadata": {
        "id": "zU_F_74lZviJ"
      }
    },
    {
      "cell_type": "code",
      "source": [
        "%matplotlib inline\n",
        "import matplotlib.pyplot as plt\n",
        "plt.rcParams['figure.figsize'] = [8, 4]\n",
        "\n",
        "import numpy as np\n",
        "import pandas as pd\n",
        "from sklearn import datasets"
      ],
      "metadata": {
        "id": "pdCDB9JJw8Cn"
      },
      "execution_count": 81,
      "outputs": []
    },
    {
      "cell_type": "code",
      "source": [
        "# Load the diabetes dataset\n",
        "X, y = datasets.load_diabetes(return_X_y=True,as_frame=True)\n",
        "\n",
        "# add an extra column of ones\n",
        "X['one'] = 1\n",
        "\n",
        "# collect 20 data points and only use BMI \n",
        "X_train = X.iloc[-20:].loc[:,['bmi','one']]\n",
        "y_train = y.iloc[-20:] / 300\n",
        "\n",
        "plt.scatter(X_train.loc[:,['bmi']],y_train, color='black')\n",
        "plt.xlabel('Body Mass Index(BMI)')\n",
        "plt.ylabel('Diabetes Risk')"
      ],
      "metadata": {
        "colab": {
          "base_uri": "https://localhost:8080/",
          "height": 297
        },
        "id": "Yqq7NtROxEBt",
        "outputId": "97b34263-47fb-4d86-c2ee-6772e1967369"
      },
      "execution_count": 82,
      "outputs": [
        {
          "output_type": "execute_result",
          "data": {
            "text/plain": [
              "Text(0, 0.5, 'Diabetes Risk')"
            ]
          },
          "metadata": {},
          "execution_count": 82
        },
        {
          "output_type": "display_data",
          "data": {
            "text/plain": [
              "<Figure size 576x288 with 1 Axes>"
            ],
            "image/png": "[encoded data removed]"
          },
          "metadata": {
            "needs_background": "light"
          }
        }
      ]
    },
    {
      "cell_type": "markdown",
      "source": [
        "**Gradient Descent for Linear Regression**\n",
        "\n",
        "Putting this together with the gradient descent algorithm, we obtain a learning method for training linear models."
      ],
      "metadata": {
        "id": "S_F7XPzPxuPo"
      }
    },
    {
      "cell_type": "code",
      "source": [
        "threshold = 1e-3\n",
        "step_size = 4e-1\n",
        "theta, theta_prev = np.array([2,1]), np.ones(2,)\n",
        "opt_pts = [theta]\n",
        "opt_grads = []\n",
        "iter = 0\n",
        "\n",
        "while np.linalg.norm(theta - theta_prev) > threshold:\n",
        "  if iter % 100 == 0:\n",
        "    print(f'Iteration {iter}. MSE: {mean_squared_error(theta,X_train,y_train)}')\n",
        "  theta_prev = theta\n",
        "  gradient = mse_gradient(theta,X_train, y_train)\n",
        "  theta = theta_prev - step_size * gradient\n",
        "  opt_pts += [theta]\n",
        "  opt_grads += [gradient]\n",
        "  iter += 1"
      ],
      "metadata": {
        "colab": {
          "base_uri": "https://localhost:8080/"
        },
        "id": "e-pfW3WmyD-g",
        "outputId": "db944231-cf23-4767-993e-40bf63f09a4d"
      },
      "execution_count": 83,
      "outputs": [
        {
          "output_type": "stream",
          "name": "stdout",
          "text": [
            "Iteration 0. MSE: 0.17172872152929558\n",
            "Iteration 100. MSE: 0.014764502290373608\n",
            "Iteration 200. MSE: 0.014348521984997187\n",
            "Iteration 300. MSE: 0.013997214677900948\n",
            "Iteration 400. MSE: 0.013700525574056174\n"
          ]
        }
      ]
    },
    {
      "cell_type": "code",
      "source": [
        "x_line = np.stack([np.linspace(-0.1,0.1,10),np.ones(10,)])\n",
        "y_line = opt_pts[-1].dot(x_line)\n",
        "\n",
        "plt.scatter(X_train.loc[:,['bmi']],y_train, color='black')\n",
        "plt.plot(x_line[0],y_line)\n",
        "plt.xlabel('Body Mass Index (BMI)')\n",
        "plt.ylabel('Diabetes Risk')"
      ],
      "metadata": {
        "colab": {
          "base_uri": "https://localhost:8080/",
          "height": 297
        },
        "id": "FJONenLQy59H",
        "outputId": "b94434be-4185-4095-c3a9-61bddabd6f96"
      },
      "execution_count": 84,
      "outputs": [
        {
          "output_type": "execute_result",
          "data": {
            "text/plain": [
              "Text(0, 0.5, 'Diabetes Risk')"
            ]
          },
          "metadata": {},
          "execution_count": 84
        },
        {
          "output_type": "display_data",
          "data": {
            "text/plain": [
              "<Figure size 576x288 with 1 Axes>"
            ],
            "image/png": "[encoded data removed]"
          },
          "metadata": {
            "needs_background": "light"
          }
        }
      ]
    },
    {
      "cell_type": "markdown",
      "source": [
        "**Part 3: Ordinary Least Squares**\n",
        "\n",
        "In practice, there is a more effective way than gradient descent to find linear model parameters.\n",
        "\n",
        "We will see this method here, which will lead to our first non-toy algorithm: Ordinary Least Squares.\n",
        "\n",
        "**The UCI Diabetes Dataset**\n",
        "In this section, we are going to use the UCI Diabetes Dataset.\n",
        "\n",
        "- for each patient, we have access to a measurement of their body mass index(BMI) and a quantitative diabetes risk score (0-300)\n",
        "- We are interested in understanding how BMI affects an individual's diabetes risk."
      ],
      "metadata": {
        "id": "Vctne6pL0j3s"
      }
    },
    {
      "cell_type": "code",
      "source": [
        "%matplotlib inline\n",
        "import matplotlib.pyplot as plt\n",
        "plt.rcParams['figure.figsize'] = [8, 4]\n",
        "\n",
        "import numpy as np\n",
        "import pandas as pd\n",
        "from sklearn import datasets\n",
        "\n",
        "# Load the diabetes dataset\n",
        "X, y = datasets.load_diabetes(return_X_y=True, as_frame=True)\n",
        "\n",
        "# add an extra column of onens\n",
        "X['one'] = 1\n",
        "\n",
        "# Collect 20 data points\n",
        "X_train = X.iloc[-20:]\n",
        "y_train = y.iloc[-20:]\n",
        "\n",
        "plt.scatter(X_train.loc[:,['bmi']], y_train,  color='black')\n",
        "plt.xlabel('Body Mass Index (BMI)')\n",
        "plt.ylabel('Diabetes Risk')\n"
      ],
      "metadata": {
        "colab": {
          "base_uri": "https://localhost:8080/",
          "height": 297
        },
        "id": "JRWVtZ4I4cpb",
        "outputId": "ebe4d08e-c24e-4531-afd5-a04b4e6aee61"
      },
      "execution_count": 85,
      "outputs": [
        {
          "output_type": "execute_result",
          "data": {
            "text/plain": [
              "Text(0, 0.5, 'Diabetes Risk')"
            ]
          },
          "metadata": {},
          "execution_count": 85
        },
        {
          "output_type": "display_data",
          "data": {
            "text/plain": [
              "<Figure size 576x288 with 1 Axes>"
            ],
            "image/png": "[encoded data removed]"
          },
          "metadata": {
            "needs_background": "light"
          }
        }
      ]
    },
    {
      "cell_type": "markdown",
      "source": [
        "**Notation: Design Matrix**\n",
        "\n",
        "Machine learning algorithms are most easily defined in the language of linear algebra. Therefore, it will be useful to represent the entire dataset as one matrix $𝑋 \\in ℝ^{n \\times d}$, of the form: \n",
        "\n",
        "$$\n",
        "𝑋 = \\begin{bmatrix}\n",
        "x_1^{(1)} & x_2^{(1)} & \\cdots & x_d^{(1)} \\\\\n",
        "x_1^{(2)} & x_2^{(2)} & \\cdots & x_d^{(2)} \\\\\n",
        "\\vdots \\\\\n",
        "x_1^{(n)} & x_2^{(n)} & \\cdots & x_d^{(n)} \\\\\n",
        "\\end{bmatrix}\n",
        "$$\n",
        "We can view the design matri for the diabetes dataset."
      ],
      "metadata": {
        "id": "xMISmB5V4fr-"
      }
    },
    {
      "cell_type": "code",
      "source": [
        "X_train.head()"
      ],
      "metadata": {
        "colab": {
          "base_uri": "https://localhost:8080/",
          "height": 270
        },
        "id": "GWuhUiPK55BK",
        "outputId": "89dbd666-e7e5-42dc-9eae-8de0c475e24d"
      },
      "execution_count": 86,
      "outputs": [
        {
          "output_type": "execute_result",
          "data": {
            "text/plain": [
              "          age       sex       bmi        bp        s1        s2        s3  \\\n",
              "422 -0.078165  0.050680  0.077863  0.052858  0.078236  0.064447  0.026550   \n",
              "423  0.009016  0.050680 -0.039618  0.028758  0.038334  0.073529 -0.072854   \n",
              "424  0.001751  0.050680  0.011039 -0.019442 -0.016704 -0.003819 -0.047082   \n",
              "425 -0.078165 -0.044642 -0.040696 -0.081414 -0.100638 -0.112795  0.022869   \n",
              "426  0.030811  0.050680 -0.034229  0.043677  0.057597  0.068831 -0.032356   \n",
              "\n",
              "           s4        s5        s6  one  \n",
              "422 -0.002592  0.040672 -0.009362    1  \n",
              "423  0.108111  0.015567 -0.046641    1  \n",
              "424  0.034309  0.024053  0.023775    1  \n",
              "425 -0.076395 -0.020289 -0.050783    1  \n",
              "426  0.057557  0.035462  0.085907    1  "
            ],
            "text/html": [
              "\n",
              "  <div id=\"df-72fe74eb-dfdf-4564-959d-b457a8abae43\">\n",
              "    <div class=\"colab-df-container\">\n",
              "      <div>\n",
              "<style scoped>\n",
              "    .dataframe tbody tr th:only-of-type {\n",
              "        vertical-align: middle;\n",
              "    }\n",
              "\n",
              "    .dataframe tbody tr th {\n",
              "        vertical-align: top;\n",
              "    }\n",
              "\n",
              "    .dataframe thead th {\n",
              "        text-align: right;\n",
              "    }\n",
              "</style>\n",
              "<table border=\"1\" class=\"dataframe\">\n",
              "  <thead>\n",
              "    <tr style=\"text-align: right;\">\n",
              "      <th></th>\n",
              "      <th>age</th>\n",
              "      <th>sex</th>\n",
              "      <th>bmi</th>\n",
              "      <th>bp</th>\n",
              "      <th>s1</th>\n",
              "      <th>s2</th>\n",
              "      <th>s3</th>\n",
              "      <th>s4</th>\n",
              "      <th>s5</th>\n",
              "      <th>s6</th>\n",
              "      <th>one</th>\n",
              "    </tr>\n",
              "  </thead>\n",
              "  <tbody>\n",
              "    <tr>\n",
              "      <th>422</th>\n",
              "      <td>-0.078165</td>\n",
              "      <td>0.050680</td>\n",
              "      <td>0.077863</td>\n",
              "      <td>0.052858</td>\n",
              "      <td>0.078236</td>\n",
              "      <td>0.064447</td>\n",
              "      <td>0.026550</td>\n",
              "      <td>-0.002592</td>\n",
              "      <td>0.040672</td>\n",
              "      <td>-0.009362</td>\n",
              "      <td>1</td>\n",
              "    </tr>\n",
              "    <tr>\n",
              "      <th>423</th>\n",
              "      <td>0.009016</td>\n",
              "      <td>0.050680</td>\n",
              "      <td>-0.039618</td>\n",
              "      <td>0.028758</td>\n",
              "      <td>0.038334</td>\n",
              "      <td>0.073529</td>\n",
              "      <td>-0.072854</td>\n",
              "      <td>0.108111</td>\n",
              "      <td>0.015567</td>\n",
              "      <td>-0.046641</td>\n",
              "      <td>1</td>\n",
              "    </tr>\n",
              "    <tr>\n",
              "      <th>424</th>\n",
              "      <td>0.001751</td>\n",
              "      <td>0.050680</td>\n",
              "      <td>0.011039</td>\n",
              "      <td>-0.019442</td>\n",
              "      <td>-0.016704</td>\n",
              "      <td>-0.003819</td>\n",
              "      <td>-0.047082</td>\n",
              "      <td>0.034309</td>\n",
              "      <td>0.024053</td>\n",
              "      <td>0.023775</td>\n",
              "      <td>1</td>\n",
              "    </tr>\n",
              "    <tr>\n",
              "      <th>425</th>\n",
              "      <td>-0.078165</td>\n",
              "      <td>-0.044642</td>\n",
              "      <td>-0.040696</td>\n",
              "      <td>-0.081414</td>\n",
              "      <td>-0.100638</td>\n",
              "      <td>-0.112795</td>\n",
              "      <td>0.022869</td>\n",
              "      <td>-0.076395</td>\n",
              "      <td>-0.020289</td>\n",
              "      <td>-0.050783</td>\n",
              "      <td>1</td>\n",
              "    </tr>\n",
              "    <tr>\n",
              "      <th>426</th>\n",
              "      <td>0.030811</td>\n",
              "      <td>0.050680</td>\n",
              "      <td>-0.034229</td>\n",
              "      <td>0.043677</td>\n",
              "      <td>0.057597</td>\n",
              "      <td>0.068831</td>\n",
              "      <td>-0.032356</td>\n",
              "      <td>0.057557</td>\n",
              "      <td>0.035462</td>\n",
              "      <td>0.085907</td>\n",
              "      <td>1</td>\n",
              "    </tr>\n",
              "  </tbody>\n",
              "</table>\n",
              "</div>\n",
              "      <button class=\"colab-df-convert\" onclick=\"convertToInteractive('df-72fe74eb-dfdf-4564-959d-b457a8abae43')\"\n",
              "              title=\"Convert this dataframe to an interactive table.\"\n",
              "              style=\"display:none;\">\n",
              "        \n",
              "  <svg xmlns=\"http://www.w3.org/2000/svg\" height=\"24px\"viewBox=\"0 0 24 24\"\n",
              "       width=\"24px\">\n",
              "    <path d=\"M0 0h24v24H0V0z\" fill=\"none\"/>\n",
              "    <path d=\"M18.56 5.44l.94 2.06.94-2.06 2.06-.94-2.06-.94-.94-2.06-.94 2.06-2.06.94zm-11 1L8.5 8.5l.94-2.06 2.06-.94-2.06-.94L8.5 2.5l-.94 2.06-2.06.94zm10 10l.94 2.06.94-2.06 2.06-.94-2.06-.94-.94-2.06-.94 2.06-2.06.94z\"/><path d=\"M17.41 7.96l-1.37-1.37c-.4-.4-.92-.59-1.43-.59-.52 0-1.04.2-1.43.59L10.3 9.45l-7.72 7.72c-.78.78-.78 2.05 0 2.83L4 21.41c.39.39.9.59 1.41.59.51 0 1.02-.2 1.41-.59l7.78-7.78 2.81-2.81c.8-.78.8-2.07 0-2.86zM5.41 20L4 18.59l7.72-7.72 1.47 1.35L5.41 20z\"/>\n",
              "  </svg>\n",
              "      </button>\n",
              "      \n",
              "  <style>\n",
              "    .colab-df-container {\n",
              "      display:flex;\n",
              "      flex-wrap:wrap;\n",
              "      gap: 12px;\n",
              "    }\n",
              "\n",
              "    .colab-df-convert {\n",
              "      background-color: #E8F0FE;\n",
              "      border: none;\n",
              "      border-radius: 50%;\n",
              "      cursor: pointer;\n",
              "      display: none;\n",
              "      fill: #1967D2;\n",
              "      height: 32px;\n",
              "      padding: 0 0 0 0;\n",
              "      width: 32px;\n",
              "    }\n",
              "\n",
              "    .colab-df-convert:hover {\n",
              "      background-color: #E2EBFA;\n",
              "      box-shadow: 0px 1px 2px rgba(60, 64, 67, 0.3), 0px 1px 3px 1px rgba(60, 64, 67, 0.15);\n",
              "      fill: #174EA6;\n",
              "    }\n",
              "\n",
              "    [theme=dark] .colab-df-convert {\n",
              "      background-color: #3B4455;\n",
              "      fill: #D2E3FC;\n",
              "    }\n",
              "\n",
              "    [theme=dark] .colab-df-convert:hover {\n",
              "      background-color: #434B5C;\n",
              "      box-shadow: 0px 1px 3px 1px rgba(0, 0, 0, 0.15);\n",
              "      filter: drop-shadow(0px 1px 2px rgba(0, 0, 0, 0.3));\n",
              "      fill: #FFFFFF;\n",
              "    }\n",
              "  </style>\n",
              "\n",
              "      <script>\n",
              "        const buttonEl =\n",
              "          document.querySelector('#df-72fe74eb-dfdf-4564-959d-b457a8abae43 button.colab-df-convert');\n",
              "        buttonEl.style.display =\n",
              "          google.colab.kernel.accessAllowed ? 'block' : 'none';\n",
              "\n",
              "        async function convertToInteractive(key) {\n",
              "          const element = document.querySelector('#df-72fe74eb-dfdf-4564-959d-b457a8abae43');\n",
              "          const dataTable =\n",
              "            await google.colab.kernel.invokeFunction('convertToInteractive',\n",
              "                                                     [key], {});\n",
              "          if (!dataTable) return;\n",
              "\n",
              "          const docLinkHtml = 'Like what you see? Visit the ' +\n",
              "            '<a target=\"_blank\" href=https://colab.research.google.com/notebooks/data_table.ipynb>data table notebook</a>'\n",
              "            + ' to learn more about interactive tables.';\n",
              "          element.innerHTML = '';\n",
              "          dataTable['output_type'] = 'display_data';\n",
              "          await google.colab.output.renderOutput(dataTable, element);\n",
              "          const docLink = document.createElement('div');\n",
              "          docLink.innerHTML = docLinkHtml;\n",
              "          element.appendChild(docLink);\n",
              "        }\n",
              "      </script>\n",
              "    </div>\n",
              "  </div>\n",
              "  "
            ]
          },
          "metadata": {},
          "execution_count": 86
        }
      ]
    },
    {
      "cell_type": "markdown",
      "source": [
        "**Notation: Design Matrix**\n",
        "\n",
        "Similarly, we can vectorize the target variables into a vector $y \\in ℝ^n$ of the form\n",
        "$$\n",
        "y = \\begin{bmatrix}\n",
        "y^{(1)} \\\\\n",
        "y^{(2)} \\\\\n",
        "\\vdots \\\\\n",
        "y^{(n)}\n",
        "\\end{bmatrix}\n",
        "$$\n",
        "\n",
        "**Squared Error in Matrix Form**\n",
        "Recall that we may fit a linear model by choosing $\\theta$ that minimizes the squared error:\n",
        "$$\n",
        "L(θ) = ∑_{i=1}^n(y^{i} - θ^Tx^{(i)})^2\n",
        "$$\n",
        "\n",
        "In other words, we are looking for the best compromise in θ over all the data points.\n",
        "\n",
        "We can write this sum in matrix-vector form as:\n",
        "$$\n",
        "L(θ) = (y - 𝑋θ)^T(y-𝑋θ) = || y - 𝑋θ||\n",
        "$$\n",
        "where 𝑋 is the design matrix and $\\lVert ⋅ \\rVert$ denotes euclidean norm.\n",
        "\n",
        "**The Gradient of the Squared Error**\n",
        "\n",
        "We can derive the gradient for the mean squared error as follows:\n",
        "\n",
        "\\begin{align}\n",
        "∇_θ L(θ) &= ∇_θ \\frac{1}{2}(𝑋θ-y)^T(𝑋θ-y) \\\\\n",
        "&= \\frac{1}{2}∇_θ((𝑋θ)^T(𝑋θ) - (𝑋θ)^T)y-y^T(𝑋θ)+y^Ty\\\\\n",
        "&= \\frac{1}{2}∇_θ(θ^T(𝑋^T𝑋)θ-2(𝑋θ)^Ty)\\\\\n",
        "&= \\frac{1}{2}(2(𝑋^T𝑋)θ-2𝑋^Ty)\\\\\n",
        "&= (𝑋^T𝑋)θ-𝑋^Ty\\\\\n",
        "\\end{align}\n",
        "\n",
        "we used the facts that $a^Tb=b^Ta$(line 3), that $∇_xb^Tx = b$(line 4), and that $∇_xx^TAx=2Ax$ for a symmetric matrix A (line 4).\n",
        "\n",
        "**Normal Equations**\n",
        "Setting the above derivative to zero, we obtain the *normal equations*.\n",
        "$$\n",
        "(𝑋^T𝑋)θ = 𝑋^Ty\n",
        "$$\n",
        "Hence, the value of $θ^*$ that minimizes this objective is given by:\n",
        "$$\n",
        " θ^* = (𝑋^T𝑋)^{-1}𝑋^Ty\n",
        "$$\n",
        "\n",
        "Note that we assumed that the matrix $𝑋^T𝑋$ is invertible; if this is not the case, there are easy ways of addressing this issue.\n",
        "\n",
        "Lets apply the normal equations."
      ],
      "metadata": {
        "id": "eHraCLxQ53Hd"
      }
    },
    {
      "cell_type": "code",
      "source": [
        "import numpy as np\n",
        "\n",
        "theta_best = np.linalg.inv(X_train.T.dot(X_train)).dot(X_train.T).dot(y_train)\n",
        "theta_best_df = pd.DataFrame(data=theta_best[np.newaxis,:],columns=X.columns)\n",
        "theta_best_df"
      ],
      "metadata": {
        "colab": {
          "base_uri": "https://localhost:8080/",
          "height": 145
        },
        "id": "iJVj9yHx9JSo",
        "outputId": "4b926a72-0445-409a-d376-09191a73a63f"
      },
      "execution_count": 87,
      "outputs": [
        {
          "output_type": "execute_result",
          "data": {
            "text/plain": [
              "        age         sex        bmi          bp            s1            s2  \\\n",
              "0 -3.888868  204.648785 -64.289163 -262.796691  14003.726808 -11798.307781   \n",
              "\n",
              "           s3           s4           s5          s6         one  \n",
              "0 -5892.15807 -1136.947646 -2736.597108 -393.879743  155.698998  "
            ],
            "text/html": [
              "\n",
              "  <div id=\"df-6c9b344b-6e70-429e-b350-9fb1954adf45\">\n",
              "    <div class=\"colab-df-container\">\n",
              "      <div>\n",
              "<style scoped>\n",
              "    .dataframe tbody tr th:only-of-type {\n",
              "        vertical-align: middle;\n",
              "    }\n",
              "\n",
              "    .dataframe tbody tr th {\n",
              "        vertical-align: top;\n",
              "    }\n",
              "\n",
              "    .dataframe thead th {\n",
              "        text-align: right;\n",
              "    }\n",
              "</style>\n",
              "<table border=\"1\" class=\"dataframe\">\n",
              "  <thead>\n",
              "    <tr style=\"text-align: right;\">\n",
              "      <th></th>\n",
              "      <th>age</th>\n",
              "      <th>sex</th>\n",
              "      <th>bmi</th>\n",
              "      <th>bp</th>\n",
              "      <th>s1</th>\n",
              "      <th>s2</th>\n",
              "      <th>s3</th>\n",
              "      <th>s4</th>\n",
              "      <th>s5</th>\n",
              "      <th>s6</th>\n",
              "      <th>one</th>\n",
              "    </tr>\n",
              "  </thead>\n",
              "  <tbody>\n",
              "    <tr>\n",
              "      <th>0</th>\n",
              "      <td>-3.888868</td>\n",
              "      <td>204.648785</td>\n",
              "      <td>-64.289163</td>\n",
              "      <td>-262.796691</td>\n",
              "      <td>14003.726808</td>\n",
              "      <td>-11798.307781</td>\n",
              "      <td>-5892.15807</td>\n",
              "      <td>-1136.947646</td>\n",
              "      <td>-2736.597108</td>\n",
              "      <td>-393.879743</td>\n",
              "      <td>155.698998</td>\n",
              "    </tr>\n",
              "  </tbody>\n",
              "</table>\n",
              "</div>\n",
              "      <button class=\"colab-df-convert\" onclick=\"convertToInteractive('df-6c9b344b-6e70-429e-b350-9fb1954adf45')\"\n",
              "              title=\"Convert this dataframe to an interactive table.\"\n",
              "              style=\"display:none;\">\n",
              "        \n",
              "  <svg xmlns=\"http://www.w3.org/2000/svg\" height=\"24px\"viewBox=\"0 0 24 24\"\n",
              "       width=\"24px\">\n",
              "    <path d=\"M0 0h24v24H0V0z\" fill=\"none\"/>\n",
              "    <path d=\"M18.56 5.44l.94 2.06.94-2.06 2.06-.94-2.06-.94-.94-2.06-.94 2.06-2.06.94zm-11 1L8.5 8.5l.94-2.06 2.06-.94-2.06-.94L8.5 2.5l-.94 2.06-2.06.94zm10 10l.94 2.06.94-2.06 2.06-.94-2.06-.94-.94-2.06-.94 2.06-2.06.94z\"/><path d=\"M17.41 7.96l-1.37-1.37c-.4-.4-.92-.59-1.43-.59-.52 0-1.04.2-1.43.59L10.3 9.45l-7.72 7.72c-.78.78-.78 2.05 0 2.83L4 21.41c.39.39.9.59 1.41.59.51 0 1.02-.2 1.41-.59l7.78-7.78 2.81-2.81c.8-.78.8-2.07 0-2.86zM5.41 20L4 18.59l7.72-7.72 1.47 1.35L5.41 20z\"/>\n",
              "  </svg>\n",
              "      </button>\n",
              "      \n",
              "  <style>\n",
              "    .colab-df-container {\n",
              "      display:flex;\n",
              "      flex-wrap:wrap;\n",
              "      gap: 12px;\n",
              "    }\n",
              "\n",
              "    .colab-df-convert {\n",
              "      background-color: #E8F0FE;\n",
              "      border: none;\n",
              "      border-radius: 50%;\n",
              "      cursor: pointer;\n",
              "      display: none;\n",
              "      fill: #1967D2;\n",
              "      height: 32px;\n",
              "      padding: 0 0 0 0;\n",
              "      width: 32px;\n",
              "    }\n",
              "\n",
              "    .colab-df-convert:hover {\n",
              "      background-color: #E2EBFA;\n",
              "      box-shadow: 0px 1px 2px rgba(60, 64, 67, 0.3), 0px 1px 3px 1px rgba(60, 64, 67, 0.15);\n",
              "      fill: #174EA6;\n",
              "    }\n",
              "\n",
              "    [theme=dark] .colab-df-convert {\n",
              "      background-color: #3B4455;\n",
              "      fill: #D2E3FC;\n",
              "    }\n",
              "\n",
              "    [theme=dark] .colab-df-convert:hover {\n",
              "      background-color: #434B5C;\n",
              "      box-shadow: 0px 1px 3px 1px rgba(0, 0, 0, 0.15);\n",
              "      filter: drop-shadow(0px 1px 2px rgba(0, 0, 0, 0.3));\n",
              "      fill: #FFFFFF;\n",
              "    }\n",
              "  </style>\n",
              "\n",
              "      <script>\n",
              "        const buttonEl =\n",
              "          document.querySelector('#df-6c9b344b-6e70-429e-b350-9fb1954adf45 button.colab-df-convert');\n",
              "        buttonEl.style.display =\n",
              "          google.colab.kernel.accessAllowed ? 'block' : 'none';\n",
              "\n",
              "        async function convertToInteractive(key) {\n",
              "          const element = document.querySelector('#df-6c9b344b-6e70-429e-b350-9fb1954adf45');\n",
              "          const dataTable =\n",
              "            await google.colab.kernel.invokeFunction('convertToInteractive',\n",
              "                                                     [key], {});\n",
              "          if (!dataTable) return;\n",
              "\n",
              "          const docLinkHtml = 'Like what you see? Visit the ' +\n",
              "            '<a target=\"_blank\" href=https://colab.research.google.com/notebooks/data_table.ipynb>data table notebook</a>'\n",
              "            + ' to learn more about interactive tables.';\n",
              "          element.innerHTML = '';\n",
              "          dataTable['output_type'] = 'display_data';\n",
              "          await google.colab.output.renderOutput(dataTable, element);\n",
              "          const docLink = document.createElement('div');\n",
              "          docLink.innerHTML = docLinkHtml;\n",
              "          element.appendChild(docLink);\n",
              "        }\n",
              "      </script>\n",
              "    </div>\n",
              "  </div>\n",
              "  "
            ]
          },
          "metadata": {},
          "execution_count": 87
        }
      ]
    },
    {
      "cell_type": "markdown",
      "source": [
        "We can now use our estimate of theta to compute predictions for 3 new data points."
      ],
      "metadata": {
        "id": "DsJJKQma-9HA"
      }
    },
    {
      "cell_type": "code",
      "source": [
        "# Collect 3 data points for testing\n",
        "X_test = X.iloc[:3]\n",
        "y_test = y.iloc[:3]\n",
        "\n",
        "# generate predictions on the new patients\n",
        "y_test_pred = X_test.dot(theta_best)"
      ],
      "metadata": {
        "id": "UuO8zo0Q-tal"
      },
      "execution_count": 88,
      "outputs": []
    },
    {
      "cell_type": "markdown",
      "source": [
        "Lets visualize these predictions."
      ],
      "metadata": {
        "id": "kEDJK45B_NN0"
      }
    },
    {
      "cell_type": "code",
      "source": [
        "# visualize the results\n",
        "plt.xlabel('Body Mass Index (BMI)')\n",
        "plt.ylabel('Diabetes Risk')\n",
        "plt.scatter(X_train.loc[:,['bmi']],y_train)\n",
        "plt.scatter(X_test.loc[:,['bmi']],y_test,color='red',marker='o')\n",
        "plt.scatter(X_test.loc[:,['bmi']],y_test_pred,marker='x',color='red')\n",
        "plt.legend(['Initial patients','New patients','Model'])"
      ],
      "metadata": {
        "colab": {
          "base_uri": "https://localhost:8080/",
          "height": 297
        },
        "id": "nXupp1Ln_PtD",
        "outputId": "b2ecf165-5cc1-4711-c6bb-d575cc497222"
      },
      "execution_count": 91,
      "outputs": [
        {
          "output_type": "execute_result",
          "data": {
            "text/plain": [
              "<matplotlib.legend.Legend at 0x7f0bbc00b4d0>"
            ]
          },
          "metadata": {},
          "execution_count": 91
        },
        {
          "output_type": "display_data",
          "data": {
            "text/plain": [
              "<Figure size 576x288 with 1 Axes>"
            ],
            "image/png": "[encoded data removed]"
          },
          "metadata": {
            "needs_background": "light"
          }
        }
      ]
    },
    {
      "cell_type": "markdown",
      "source": [
        "**Part 4: Non-Linear Least Squares**\n",
        "So far, we have learned about a very simple linear model. These can capture only simple linear relationships in the data. \n",
        "How can we use what we learned so far to model more complex relationships?\n",
        "\n",
        "We will now see a simple approach to model complex non-linear relationships called *least squares*.\n",
        "\n",
        "**Review: Polynomial Functions**\n",
        "Recall that a polynomial of degree p is a function of the form\n",
        "$$\n",
        "θ_0 + θ_1x + \\ldots + θ_{p-1}x^{p-1} + θ_px^p \n",
        "$$\n",
        "\n",
        "Below are some examples of polynomial functions."
      ],
      "metadata": {
        "id": "HQUtKhnSAD6l"
      }
    },
    {
      "cell_type": "code",
      "source": [
        "plt.figure(figsize=(16,4))\n",
        "x_vars = np.linspace(-2,2)\n",
        "\n",
        "plt.subplot(131)\n",
        "plt.plot(x_vars,x_vars**2)\n",
        "\n",
        "plt.subplot(132)\n",
        "plt.plot(x_vars,x_vars**3)\n",
        "\n",
        "plt.subplot(133)\n",
        "plt.plot(x_vars,x_vars**3 + 2*x_vars**2 +x_vars + 1)"
      ],
      "metadata": {
        "colab": {
          "base_uri": "https://localhost:8080/",
          "height": 210
        },
        "id": "fYzjUn5MBEP4",
        "outputId": "e7ea2b0b-6ec6-4c66-b539-d1adcb9cf5be"
      },
      "execution_count": 93,
      "outputs": [
        {
          "output_type": "execute_result",
          "data": {
            "text/plain": [
              "[<matplotlib.lines.Line2D at 0x7f0bbbe5f710>]"
            ]
          },
          "metadata": {},
          "execution_count": 93
        },
        {
          "output_type": "display_data",
          "data": {
            "text/plain": [
              "<Figure size 1152x288 with 3 Axes>"
            ],
            "image/png": "[encoded data removed]"
          },
          "metadata": {
            "needs_background": "light"
          }
        }
      ]
    },
    {
      "cell_type": "markdown",
      "source": [
        "**Modeling Non-Linear Relationships with Polynomial Regression**\n",
        "\n",
        "Specifically, given a 1-D continous variable x, we can define a feature function $ϕ:ℝ→ℝ^{p+1}$ as \n",
        "$$\n",
        "ϕ(x) = \\begin{pmatrix}\n",
        "1 \\\\\n",
        "x \\\\\n",
        "x^2 \\\\\n",
        "\\vdots \\\\\n",
        "x^p\n",
        "\\end{pmatrix}\n",
        "$$ \n",
        "\n",
        "The class of models of the form\n",
        "$$\n",
        "f_Θ(x) = ∑_{j=0}^{p}Θ_px^p = Θ^Tϕ(x)\n",
        "$$\n",
        "\n",
        "with parameters Θ and polynomial features ϕ is the set of p-degree polynomials.\n",
        "\n",
        "-  This model is non-linear in the input variable $x$, meaning that we can model complex data relationships.\n",
        "- It is a linear moel as a functin of the parameters Θ, meaning that we can use our familiar ordinary least squares algorithm to learn these features."
      ],
      "metadata": {
        "id": "hDUudVR5BisH"
      }
    },
    {
      "cell_type": "markdown",
      "source": [
        "\n",
        "**The UCI Diabetes Dataset**\n",
        "\n",
        "In this section, we are going to again use the UCI Diabetes Dataset.\n",
        "\n",
        "  - For each patient we have a access to a measurement of their body mass index (BMI) and a quantiative diabetes risk score (from 0-300).\n",
        "  - We are interested in understanding how BMI affects an individual's diabetes risk.\n",
        "\n"
      ],
      "metadata": {
        "id": "jOOGNsjRDJyK"
      }
    },
    {
      "cell_type": "code",
      "source": [
        "%matplotlib inline\n",
        "import matplotlib.pyplot as plt\n",
        "plt.rcParams['figure.figsize'] = [8, 4]\n",
        "\n",
        "import numpy as np\n",
        "import pandas as pd\n",
        "from sklearn import datasets\n",
        "\n",
        "# Load the diabetes dataset\n",
        "X, y = datasets.load_diabetes(return_X_y=True, as_frame=True)\n",
        "\n",
        "# add an extra column of onens\n",
        "X['one'] = 1\n",
        "\n",
        "# Collect 20 data points\n",
        "X_train = X.iloc[-20:]\n",
        "y_train = y.iloc[-20:]\n",
        "\n",
        "plt.scatter(X_train.loc[:,['bmi']], y_train,  color='black')\n",
        "plt.xlabel('Body Mass Index (BMI)')\n",
        "plt.ylabel('Diabetes Risk')"
      ],
      "metadata": {
        "colab": {
          "base_uri": "https://localhost:8080/",
          "height": 297
        },
        "id": "X2PtteG9DUx3",
        "outputId": "b736fa0b-2e43-4ae9-a460-eb5e32d1eb97"
      },
      "execution_count": 94,
      "outputs": [
        {
          "output_type": "execute_result",
          "data": {
            "text/plain": [
              "Text(0, 0.5, 'Diabetes Risk')"
            ]
          },
          "metadata": {},
          "execution_count": 94
        },
        {
          "output_type": "display_data",
          "data": {
            "text/plain": [
              "<Figure size 576x288 with 1 Axes>"
            ],
            "image/png": "[encoded data removed]"
          },
          "metadata": {
            "needs_background": "light"
          }
        }
      ]
    },
    {
      "cell_type": "markdown",
      "source": [
        "**Diabetes Dataset: A Non-Linear Featurization**\n",
        "\n",
        "Lets now obtain linear features for this dataset."
      ],
      "metadata": {
        "id": "hcBgy5fKDZaR"
      }
    },
    {
      "cell_type": "code",
      "source": [
        "X_bmi = X_train.loc[:,['bmi']]\n",
        "\n",
        "X_bmi_p3 = pd.concat([X_bmi,X_bmi**2, X_bmi**3],axis=1)\n",
        "X_bmi_p3.columns = ['bmi','bmi2','bmi**3']\n",
        "X_bmi_p3['one'] = 1\n",
        "X_bmi_p3.head()"
      ],
      "metadata": {
        "colab": {
          "base_uri": "https://localhost:8080/",
          "height": 206
        },
        "id": "rFVCzKc5Dh06",
        "outputId": "62ed4317-563e-4488-8ed0-a8cb7b726c36"
      },
      "execution_count": 95,
      "outputs": [
        {
          "output_type": "execute_result",
          "data": {
            "text/plain": [
              "          bmi      bmi2    bmi**3  one\n",
              "422  0.077863  0.006063  0.000472    1\n",
              "423 -0.039618  0.001570 -0.000062    1\n",
              "424  0.011039  0.000122  0.000001    1\n",
              "425 -0.040696  0.001656 -0.000067    1\n",
              "426 -0.034229  0.001172 -0.000040    1"
            ],
            "text/html": [
              "\n",
              "  <div id=\"df-64e65056-428d-4d47-adce-51b4a2b17fe5\">\n",
              "    <div class=\"colab-df-container\">\n",
              "      <div>\n",
              "<style scoped>\n",
              "    .dataframe tbody tr th:only-of-type {\n",
              "        vertical-align: middle;\n",
              "    }\n",
              "\n",
              "    .dataframe tbody tr th {\n",
              "        vertical-align: top;\n",
              "    }\n",
              "\n",
              "    .dataframe thead th {\n",
              "        text-align: right;\n",
              "    }\n",
              "</style>\n",
              "<table border=\"1\" class=\"dataframe\">\n",
              "  <thead>\n",
              "    <tr style=\"text-align: right;\">\n",
              "      <th></th>\n",
              "      <th>bmi</th>\n",
              "      <th>bmi2</th>\n",
              "      <th>bmi**3</th>\n",
              "      <th>one</th>\n",
              "    </tr>\n",
              "  </thead>\n",
              "  <tbody>\n",
              "    <tr>\n",
              "      <th>422</th>\n",
              "      <td>0.077863</td>\n",
              "      <td>0.006063</td>\n",
              "      <td>0.000472</td>\n",
              "      <td>1</td>\n",
              "    </tr>\n",
              "    <tr>\n",
              "      <th>423</th>\n",
              "      <td>-0.039618</td>\n",
              "      <td>0.001570</td>\n",
              "      <td>-0.000062</td>\n",
              "      <td>1</td>\n",
              "    </tr>\n",
              "    <tr>\n",
              "      <th>424</th>\n",
              "      <td>0.011039</td>\n",
              "      <td>0.000122</td>\n",
              "      <td>0.000001</td>\n",
              "      <td>1</td>\n",
              "    </tr>\n",
              "    <tr>\n",
              "      <th>425</th>\n",
              "      <td>-0.040696</td>\n",
              "      <td>0.001656</td>\n",
              "      <td>-0.000067</td>\n",
              "      <td>1</td>\n",
              "    </tr>\n",
              "    <tr>\n",
              "      <th>426</th>\n",
              "      <td>-0.034229</td>\n",
              "      <td>0.001172</td>\n",
              "      <td>-0.000040</td>\n",
              "      <td>1</td>\n",
              "    </tr>\n",
              "  </tbody>\n",
              "</table>\n",
              "</div>\n",
              "      <button class=\"colab-df-convert\" onclick=\"convertToInteractive('df-64e65056-428d-4d47-adce-51b4a2b17fe5')\"\n",
              "              title=\"Convert this dataframe to an interactive table.\"\n",
              "              style=\"display:none;\">\n",
              "        \n",
              "  <svg xmlns=\"http://www.w3.org/2000/svg\" height=\"24px\"viewBox=\"0 0 24 24\"\n",
              "       width=\"24px\">\n",
              "    <path d=\"M0 0h24v24H0V0z\" fill=\"none\"/>\n",
              "    <path d=\"M18.56 5.44l.94 2.06.94-2.06 2.06-.94-2.06-.94-.94-2.06-.94 2.06-2.06.94zm-11 1L8.5 8.5l.94-2.06 2.06-.94-2.06-.94L8.5 2.5l-.94 2.06-2.06.94zm10 10l.94 2.06.94-2.06 2.06-.94-2.06-.94-.94-2.06-.94 2.06-2.06.94z\"/><path d=\"M17.41 7.96l-1.37-1.37c-.4-.4-.92-.59-1.43-.59-.52 0-1.04.2-1.43.59L10.3 9.45l-7.72 7.72c-.78.78-.78 2.05 0 2.83L4 21.41c.39.39.9.59 1.41.59.51 0 1.02-.2 1.41-.59l7.78-7.78 2.81-2.81c.8-.78.8-2.07 0-2.86zM5.41 20L4 18.59l7.72-7.72 1.47 1.35L5.41 20z\"/>\n",
              "  </svg>\n",
              "      </button>\n",
              "      \n",
              "  <style>\n",
              "    .colab-df-container {\n",
              "      display:flex;\n",
              "      flex-wrap:wrap;\n",
              "      gap: 12px;\n",
              "    }\n",
              "\n",
              "    .colab-df-convert {\n",
              "      background-color: #E8F0FE;\n",
              "      border: none;\n",
              "      border-radius: 50%;\n",
              "      cursor: pointer;\n",
              "      display: none;\n",
              "      fill: #1967D2;\n",
              "      height: 32px;\n",
              "      padding: 0 0 0 0;\n",
              "      width: 32px;\n",
              "    }\n",
              "\n",
              "    .colab-df-convert:hover {\n",
              "      background-color: #E2EBFA;\n",
              "      box-shadow: 0px 1px 2px rgba(60, 64, 67, 0.3), 0px 1px 3px 1px rgba(60, 64, 67, 0.15);\n",
              "      fill: #174EA6;\n",
              "    }\n",
              "\n",
              "    [theme=dark] .colab-df-convert {\n",
              "      background-color: #3B4455;\n",
              "      fill: #D2E3FC;\n",
              "    }\n",
              "\n",
              "    [theme=dark] .colab-df-convert:hover {\n",
              "      background-color: #434B5C;\n",
              "      box-shadow: 0px 1px 3px 1px rgba(0, 0, 0, 0.15);\n",
              "      filter: drop-shadow(0px 1px 2px rgba(0, 0, 0, 0.3));\n",
              "      fill: #FFFFFF;\n",
              "    }\n",
              "  </style>\n",
              "\n",
              "      <script>\n",
              "        const buttonEl =\n",
              "          document.querySelector('#df-64e65056-428d-4d47-adce-51b4a2b17fe5 button.colab-df-convert');\n",
              "        buttonEl.style.display =\n",
              "          google.colab.kernel.accessAllowed ? 'block' : 'none';\n",
              "\n",
              "        async function convertToInteractive(key) {\n",
              "          const element = document.querySelector('#df-64e65056-428d-4d47-adce-51b4a2b17fe5');\n",
              "          const dataTable =\n",
              "            await google.colab.kernel.invokeFunction('convertToInteractive',\n",
              "                                                     [key], {});\n",
              "          if (!dataTable) return;\n",
              "\n",
              "          const docLinkHtml = 'Like what you see? Visit the ' +\n",
              "            '<a target=\"_blank\" href=https://colab.research.google.com/notebooks/data_table.ipynb>data table notebook</a>'\n",
              "            + ' to learn more about interactive tables.';\n",
              "          element.innerHTML = '';\n",
              "          dataTable['output_type'] = 'display_data';\n",
              "          await google.colab.output.renderOutput(dataTable, element);\n",
              "          const docLink = document.createElement('div');\n",
              "          docLink.innerHTML = docLinkHtml;\n",
              "          element.appendChild(docLink);\n",
              "        }\n",
              "      </script>\n",
              "    </div>\n",
              "  </div>\n",
              "  "
            ]
          },
          "metadata": {},
          "execution_count": 95
        }
      ]
    },
    {
      "cell_type": "markdown",
      "source": [
        "**Diabetes Dataset: A Polynomial Model**\n",
        "\n",
        "By training a linear model on this featurization of the diabetes set, we can obtain a polynomial model of diabetes risk as a function of BMI."
      ],
      "metadata": {
        "id": "O5hBrjP1Dxq2"
      }
    },
    {
      "cell_type": "code",
      "source": [
        "# Fit a linear regression\n",
        "theta = np.linalg.inv(X_bmi_p3.T@X_bmi_p3)@X_bmi_p3.T@y_train\n",
        "\n",
        "# Show the learned polynomial curve\n",
        "x_line = np.linspace(-0.1, 0.1, 10)\n",
        "x_line_p3 = np.stack([x_line, x_line**2, x_line**3,np.ones(10,)],axis=1)\n",
        "y_train_pred = x_line_p3.dot(theta)\n",
        "\n",
        "plt.xlabel('Body Mass Index (BMI)')\n",
        "plt.ylabel('Diabetes Risk')\n",
        "plt.scatter(X_bmi, y_train)\n",
        "plt.plot(x_line, y_train_pred)"
      ],
      "metadata": {
        "colab": {
          "base_uri": "https://localhost:8080/",
          "height": 297
        },
        "id": "XKDfNwGBEAWr",
        "outputId": "9656f652-e734-4e92-97ef-4d96c6bbe7e3"
      },
      "execution_count": 104,
      "outputs": [
        {
          "output_type": "execute_result",
          "data": {
            "text/plain": [
              "[<matplotlib.lines.Line2D at 0x7f0bbbd2fe10>]"
            ]
          },
          "metadata": {},
          "execution_count": 104
        },
        {
          "output_type": "display_data",
          "data": {
            "text/plain": [
              "<Figure size 576x288 with 1 Axes>"
            ],
            "image/png": "[encoded data removed]"
          },
          "metadata": {
            "needs_background": "light"
          }
        }
      ]
    },
    {
      "cell_type": "markdown",
      "source": [
        "**Multivariate Polynomial Regression**\n",
        "\n",
        "We can also take this approach to construct non-linear function of multiple variable by using multivariate polynomials.\n",
        "\n",
        "For example, a polynomial of degree 2 over two variables $x_1,x_2$ is a function of the form.\n",
        "$$\n",
        "θ_{00} + θ_{10}x_1 + θ_{20}x_1^2 +  θ_{01}x_2 + θ_{02}x_2^2 + θ_{11}x_1x_2 \n",
        "$$\n",
        "\n",
        "In general, a polynomial of degree $p$ over two variables $x_1,x_2$ is a function of the form\n",
        "\n",
        "$$\n",
        "f(x_1,x_2) = ∑_{i,j \\ge 0; i+j \\le p} θ_{ij}x_1^ix_2^j\n",
        "$$\n",
        "\n",
        "In our 2-D example, this corresponds to a feature function $ϕ:ℝ^2→ℝ^6$ of the form\n",
        "$$\n",
        "ϕ(x) = \n",
        "\\begin{bmatrix}\n",
        "1 \\\\\n",
        "x_1 \\\\\n",
        "x_1^2 \\\\\n",
        "x_2 \\\\\n",
        "x_2^2 \\\\\n",
        "x_1x_2 \n",
        "\\end{bmatrix}\n",
        "$$\n",
        "The same approach holdf for polynomials of any degree and any number of variables.\n",
        "\n",
        "**Towards general Non-Linear Features**\n",
        "Any non-linear feature map $ϕ(x):ℝ^d →ℝ^p$ can be used in this way to obtain general models of the form\n",
        "$$\n",
        "f_θ(x) = θ^Tϕ(x)\n",
        "$$\n",
        "that are highly non-linear in $x$ but linear in θ."
      ],
      "metadata": {
        "id": "Q8ozb5vQEMI8"
      }
    },
    {
      "cell_type": "code",
      "source": [],
      "metadata": {
        "id": "aYwliZNHF-nb"
      },
      "execution_count": null,
      "outputs": []
    }
  ]
}