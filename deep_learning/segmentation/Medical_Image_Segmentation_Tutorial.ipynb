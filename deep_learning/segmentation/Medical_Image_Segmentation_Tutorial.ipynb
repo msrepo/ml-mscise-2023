{
  "nbformat": 4,
  "nbformat_minor": 0,
  "metadata": {
    "colab": {
      "provenance": [],
      "authorship_tag": "ABX9TyOy621Hx2Q4yMwH806dV8C/",
      "include_colab_link": true
    },
    "kernelspec": {
      "name": "python3",
      "display_name": "Python 3"
    },
    "language_info": {
      "name": "python"
    }
  },
  "cells": [
    {
      "cell_type": "markdown",
      "metadata": {
        "id": "view-in-github",
        "colab_type": "text"
      },
      "source": [
        "<a href=\"https://colab.research.google.com/github/msrepo/ml-mscise-2023/blob/master/deep_learning/segmentation/Medical_Image_Segmentation_Tutorial.ipynb\" target=\"_parent\"><img src=\"https://colab.research.google.com/assets/colab-badge.svg\" alt=\"Open In Colab\"/></a>"
      ]
    },
    {
      "cell_type": "markdown",
      "source": [
        "Original notebook by:\n",
        "\n",
        "Wenjia Bai\n",
        "\n",
        "RISE-MICCAI Winter School\n",
        "\n",
        "In this tutorial, you will develop and train a convolutional neural network for brain tumour image segmentation."
      ],
      "metadata": {
        "id": "ZZTWmiBRLm9h"
      }
    },
    {
      "cell_type": "code",
      "source": [
        "!pip install segmentation-models-pytorch"
      ],
      "metadata": {
        "colab": {
          "base_uri": "https://localhost:8080/"
        },
        "id": "KgKPhZIw0oZy",
        "outputId": "08d5cd10-1ebd-4e05-e0e8-3a7687a0e1c6"
      },
      "execution_count": 131,
      "outputs": [
        {
          "output_type": "stream",
          "name": "stdout",
          "text": [
            "Looking in indexes: https://pypi.org/simple, https://us-python.pkg.dev/colab-wheels/public/simple/\n",
            "Collecting segmentation-models-pytorch\n",
            "  Downloading segmentation_models_pytorch-0.3.0-py3-none-any.whl (97 kB)\n",
            "\u001b[K     |████████████████████████████████| 97 kB 4.4 MB/s \n",
            "\u001b[?25hRequirement already satisfied: pillow in /usr/local/lib/python3.7/dist-packages (from segmentation-models-pytorch) (7.1.2)\n",
            "Requirement already satisfied: torchvision>=0.5.0 in /usr/local/lib/python3.7/dist-packages (from segmentation-models-pytorch) (0.13.1+cu113)\n",
            "Requirement already satisfied: tqdm in /usr/local/lib/python3.7/dist-packages (from segmentation-models-pytorch) (4.64.1)\n",
            "Collecting efficientnet-pytorch==0.7.1\n",
            "  Downloading efficientnet_pytorch-0.7.1.tar.gz (21 kB)\n",
            "Collecting pretrainedmodels==0.7.4\n",
            "  Downloading pretrainedmodels-0.7.4.tar.gz (58 kB)\n",
            "\u001b[K     |████████████████████████████████| 58 kB 6.2 MB/s \n",
            "\u001b[?25hCollecting timm==0.4.12\n",
            "  Downloading timm-0.4.12-py3-none-any.whl (376 kB)\n",
            "\u001b[K     |████████████████████████████████| 376 kB 42.4 MB/s \n",
            "\u001b[?25hRequirement already satisfied: torch in /usr/local/lib/python3.7/dist-packages (from efficientnet-pytorch==0.7.1->segmentation-models-pytorch) (1.12.1+cu113)\n",
            "Collecting munch\n",
            "  Downloading munch-2.5.0-py2.py3-none-any.whl (10 kB)\n",
            "Requirement already satisfied: typing-extensions in /usr/local/lib/python3.7/dist-packages (from torch->efficientnet-pytorch==0.7.1->segmentation-models-pytorch) (4.1.1)\n",
            "Requirement already satisfied: requests in /usr/local/lib/python3.7/dist-packages (from torchvision>=0.5.0->segmentation-models-pytorch) (2.23.0)\n",
            "Requirement already satisfied: numpy in /usr/local/lib/python3.7/dist-packages (from torchvision>=0.5.0->segmentation-models-pytorch) (1.21.6)\n",
            "Requirement already satisfied: six in /usr/local/lib/python3.7/dist-packages (from munch->pretrainedmodels==0.7.4->segmentation-models-pytorch) (1.15.0)\n",
            "Requirement already satisfied: certifi>=2017.4.17 in /usr/local/lib/python3.7/dist-packages (from requests->torchvision>=0.5.0->segmentation-models-pytorch) (2022.9.24)\n",
            "Requirement already satisfied: urllib3!=1.25.0,!=1.25.1,<1.26,>=1.21.1 in /usr/local/lib/python3.7/dist-packages (from requests->torchvision>=0.5.0->segmentation-models-pytorch) (1.24.3)\n",
            "Requirement already satisfied: chardet<4,>=3.0.2 in /usr/local/lib/python3.7/dist-packages (from requests->torchvision>=0.5.0->segmentation-models-pytorch) (3.0.4)\n",
            "Requirement already satisfied: idna<3,>=2.5 in /usr/local/lib/python3.7/dist-packages (from requests->torchvision>=0.5.0->segmentation-models-pytorch) (2.10)\n",
            "Building wheels for collected packages: efficientnet-pytorch, pretrainedmodels\n",
            "  Building wheel for efficientnet-pytorch (setup.py) ... \u001b[?25l\u001b[?25hdone\n",
            "  Created wheel for efficientnet-pytorch: filename=efficientnet_pytorch-0.7.1-py3-none-any.whl size=16446 sha256=6605e0477de879ea0d66ec67008de2f2392fcf5b183c65eb73c78521c97d331b\n",
            "  Stored in directory: /root/.cache/pip/wheels/0e/cc/b2/49e74588263573ff778da58cc99b9c6349b496636a7e165be6\n",
            "  Building wheel for pretrainedmodels (setup.py) ... \u001b[?25l\u001b[?25hdone\n",
            "  Created wheel for pretrainedmodels: filename=pretrainedmodels-0.7.4-py3-none-any.whl size=60966 sha256=7feee4349438b02e8848ad583c5bccb7d6a704d24d8c591c187f30ed1ace2e8a\n",
            "  Stored in directory: /root/.cache/pip/wheels/ed/27/e8/9543d42de2740d3544db96aefef63bda3f2c1761b3334f4873\n",
            "Successfully built efficientnet-pytorch pretrainedmodels\n",
            "Installing collected packages: munch, timm, pretrainedmodels, efficientnet-pytorch, segmentation-models-pytorch\n",
            "Successfully installed efficientnet-pytorch-0.7.1 munch-2.5.0 pretrainedmodels-0.7.4 segmentation-models-pytorch-0.3.0 timm-0.4.12\n"
          ]
        }
      ]
    },
    {
      "cell_type": "code",
      "source": [
        "# import libraries\n",
        "import os\n",
        "import time\n",
        "import imageio\n",
        "import torch\n",
        "import torch.nn as nn\n",
        "from torch.optim import Adam\n",
        "from torch.utils.data import Dataset\n",
        "from torchvision.models.segmentation import fcn_resnet50\n",
        "import numpy as np\n",
        "import matplotlib.pyplot as plt\n",
        "import tarfile\n",
        "from pathlib import Path\n",
        "import segmentation_models_pytorch as smp"
      ],
      "metadata": {
        "id": "0TCXIaaDLxoB"
      },
      "execution_count": 132,
      "outputs": []
    },
    {
      "cell_type": "markdown",
      "source": [
        "## Download the imaging dataset\n",
        "\n",
        "The dataset is curated from the brain imaging dataset in Medical Decathlon Challenge. To save storage and reduce the computational cost for this tutorial, we extract 2D image slices from T1-Gd contrast enhanced 3D brain volumes and downsample the images.\n",
        "\n",
        "The dataset consists of a training set and a test set. Each iamge is of dimension 120 x 120, with a corresponding label map of the same dimension. There are four number of classes in the label map:\n",
        "\n",
        "- 0: background\n",
        "- 1: edema\n",
        "- 2: non-enhancing tumour\n",
        "- 3: enhancing tumour"
      ],
      "metadata": {
        "id": "pN60ila1MQkA"
      }
    },
    {
      "cell_type": "code",
      "source": [
        "# Download the dataset\n",
        "!wget https://www.dropbox.com/s/zmytk2yu284af6t/Task01_BrainTumour_2D.tar.gz\n",
        "\n",
        "# Unzip the '.tar.gz' file to the current directory\n",
        "datafile = tarfile.open('Task01_BrainTumour_2D.tar.gz')\n",
        "datafile.extractall()\n",
        "datafile.close() "
      ],
      "metadata": {
        "colab": {
          "base_uri": "https://localhost:8080/"
        },
        "id": "5QpBtHf4Mz6a",
        "outputId": "d287dcb4-5301-452a-d2b1-5fc9b4e889bb"
      },
      "execution_count": 60,
      "outputs": [
        {
          "output_type": "stream",
          "name": "stdout",
          "text": [
            "--2022-11-27 04:39:16--  https://www.dropbox.com/s/zmytk2yu284af6t/Task01_BrainTumour_2D.tar.gz\n",
            "Resolving www.dropbox.com (www.dropbox.com)... 162.125.2.18, 2620:100:6017:18::a27d:212\n",
            "Connecting to www.dropbox.com (www.dropbox.com)|162.125.2.18|:443... connected.\n",
            "HTTP request sent, awaiting response... 302 Found\n",
            "Location: /s/raw/zmytk2yu284af6t/Task01_BrainTumour_2D.tar.gz [following]\n",
            "--2022-11-27 04:39:17--  https://www.dropbox.com/s/raw/zmytk2yu284af6t/Task01_BrainTumour_2D.tar.gz\n",
            "Reusing existing connection to www.dropbox.com:443.\n",
            "HTTP request sent, awaiting response... 302 Found\n",
            "Location: https://uc75972659b3c337cd6f7745d2e8.dl.dropboxusercontent.com/cd/0/inline/BxhPYfB5C0GMlsiXcM8af2YO_H3vYRBmPRMVDHeTGf9x7h3Wsy10w0LQDBslbrtgbdycRFBCpLtnuT3nkVSUPT4esfcs2oosqWmkFySCYhvqZo0QaAwvLn-tRuwpDO0Z4uBWfpCa8-AFfxbKfm9WQOXmextrnT2kCV4ZKmag9RnCeg/file# [following]\n",
            "--2022-11-27 04:39:17--  https://uc75972659b3c337cd6f7745d2e8.dl.dropboxusercontent.com/cd/0/inline/BxhPYfB5C0GMlsiXcM8af2YO_H3vYRBmPRMVDHeTGf9x7h3Wsy10w0LQDBslbrtgbdycRFBCpLtnuT3nkVSUPT4esfcs2oosqWmkFySCYhvqZo0QaAwvLn-tRuwpDO0Z4uBWfpCa8-AFfxbKfm9WQOXmextrnT2kCV4ZKmag9RnCeg/file\n",
            "Resolving uc75972659b3c337cd6f7745d2e8.dl.dropboxusercontent.com (uc75972659b3c337cd6f7745d2e8.dl.dropboxusercontent.com)... 162.125.65.15, 2620:100:6017:15::a27d:20f\n",
            "Connecting to uc75972659b3c337cd6f7745d2e8.dl.dropboxusercontent.com (uc75972659b3c337cd6f7745d2e8.dl.dropboxusercontent.com)|162.125.65.15|:443... connected.\n",
            "HTTP request sent, awaiting response... 302 Found\n",
            "Location: /cd/0/inline2/Bxh2yE_y9qPDRXwXFM5KItbTRKmJOLB0u4sUyiloBC-VHuDCAQ-IcvrN5vaypikQkBDzcE6ypgRcaBmCSdlwsXVu-63QJ739z3M1eZU_TnupecAQIePAtbJ3e9RYhjM1THVvP9DqB3ptJDACjBgoGU-A4hNowjTO9GxtfFnvksukTQiOO73hSYzxO73wcJih_ivhn7UEpklZwCXB0bdcivQPUjjHvO8kZ9gPdhR3ARhUCnANQ1dsLwImJi-cW3wbFxB1CCgPPgIwg3Ctp4nfLtC3VJD9wcw-kIW9fEEnOIdE5r1-fhiJoX59GF29VMcLI1QVt-Ar7vpq-Oris4Gv_stm85mlmdMeoO8iGySIOuyM68uMKOVNO6tlf0wln4nEBtd4Exn7c5UoHUgPvyoD12aCWJo9iu86tccd5MlcQAS-WA/file [following]\n",
            "--2022-11-27 04:39:18--  https://uc75972659b3c337cd6f7745d2e8.dl.dropboxusercontent.com/cd/0/inline2/Bxh2yE_y9qPDRXwXFM5KItbTRKmJOLB0u4sUyiloBC-VHuDCAQ-IcvrN5vaypikQkBDzcE6ypgRcaBmCSdlwsXVu-63QJ739z3M1eZU_TnupecAQIePAtbJ3e9RYhjM1THVvP9DqB3ptJDACjBgoGU-A4hNowjTO9GxtfFnvksukTQiOO73hSYzxO73wcJih_ivhn7UEpklZwCXB0bdcivQPUjjHvO8kZ9gPdhR3ARhUCnANQ1dsLwImJi-cW3wbFxB1CCgPPgIwg3Ctp4nfLtC3VJD9wcw-kIW9fEEnOIdE5r1-fhiJoX59GF29VMcLI1QVt-Ar7vpq-Oris4Gv_stm85mlmdMeoO8iGySIOuyM68uMKOVNO6tlf0wln4nEBtd4Exn7c5UoHUgPvyoD12aCWJo9iu86tccd5MlcQAS-WA/file\n",
            "Reusing existing connection to uc75972659b3c337cd6f7745d2e8.dl.dropboxusercontent.com:443.\n",
            "HTTP request sent, awaiting response... 200 OK\n",
            "Length: 9251149 (8.8M) [application/octet-stream]\n",
            "Saving to: ‘Task01_BrainTumour_2D.tar.gz.2’\n",
            "\n",
            "Task01_BrainTumour_ 100%[===================>]   8.82M  5.32MB/s    in 1.7s    \n",
            "\n",
            "2022-11-27 04:39:20 (5.32 MB/s) - ‘Task01_BrainTumour_2D.tar.gz.2’ saved [9251149/9251149]\n",
            "\n"
          ]
        }
      ]
    },
    {
      "cell_type": "markdown",
      "source": [
        "**Understand your data**\n",
        " \n",
        "\n",
        "- Visually look at few examples from the dataset. are there errors in the labels? are there repeated examples?\n",
        "- What is the intensity distribution of images? Do we need to do preprocessing?\n",
        "- What is the distribution of labels? are they balanced? \n",
        "- Do we have any additional metadata available such as gender, location etc.?"
      ],
      "metadata": {
        "id": "I2_eY16IPBa2"
      }
    },
    {
      "cell_type": "code",
      "source": [
        "sample_img = imageio.imread('/content/Task01_BrainTumour_2D/training_images/BRATS_002_z124.png')\n",
        "sample_label = imageio.imread('/content/Task01_BrainTumour_2D/training_labels/BRATS_002_z124.png')"
      ],
      "metadata": {
        "id": "XSxy5y6gNcIo"
      },
      "execution_count": 87,
      "outputs": []
    },
    {
      "cell_type": "code",
      "source": [
        "# visualize raw data\n",
        "%matplotlib inline\n",
        "plt.figure(figsize=(18,6))\n",
        "plt.subplot(131)\n",
        "plt.title('image')\n",
        "plt.imshow(sample_img,cmap='gray')\n",
        "plt.subplot(132)\n",
        "plt.title('label')\n",
        "plt.imshow(sample_label,cmap='gray')\n",
        "plt.subplot(133)\n",
        "plt.title('image-label superimposed')\n",
        "plt.imshow(sample_img,cmap='gray',alpha=0.5)\n",
        "plt.imshow(sample_label,cmap='gray',alpha=0.5)\n"
      ],
      "metadata": {
        "colab": {
          "base_uri": "https://localhost:8080/",
          "height": 276
        },
        "id": "FkHuTY8kM31Q",
        "outputId": "fe82ef8e-399d-49ac-ad1c-f43a21c1386e"
      },
      "execution_count": 88,
      "outputs": [
        {
          "output_type": "execute_result",
          "data": {
            "text/plain": [
              "<matplotlib.image.AxesImage at 0x7f84201cfa10>"
            ]
          },
          "metadata": {},
          "execution_count": 88
        },
        {
          "output_type": "display_data",
          "data": {
            "text/plain": [
              "<Figure size 1296x432 with 3 Axes>"
            ],
            "image/png": "[encoded data removed]"
          },
          "metadata": {
            "needs_background": "light"
          }
        }
      ]
    },
    {
      "cell_type": "markdown",
      "source": [
        "**How many training and test samples do we have?**\n"
      ],
      "metadata": {
        "id": "g9nE2YnBY_DB"
      }
    },
    {
      "cell_type": "code",
      "source": [
        "# How many training and test samples do we have?\n",
        "training_img_paths = Path('/content/Task01_BrainTumour_2D/training_images/').glob('BRATS_*.png')\n",
        "training_label_paths = Path('/content/Task01_BrainTumour_2D/training_labels/').glob('BRATS_*.png')\n",
        "test_img_paths = Path('/content/Task01_BrainTumour_2D/test_images/').glob('BRATS_*.png')\n",
        "test_label_paths = Path('/content/Task01_BrainTumour_2D/test_labels/').glob('BRATS_*.png')\n",
        "print(f'Training img:{len(list(training_img_paths))} label:{len(list(training_label_paths))} Test img:{len(list(test_img_paths))} label:{len(list(test_label_paths))}')"
      ],
      "metadata": {
        "colab": {
          "base_uri": "https://localhost:8080/"
        },
        "id": "jef21kSKRcTB",
        "outputId": "5b109a80-e89a-4e4a-8efa-2ffd94845cd7"
      },
      "execution_count": 89,
      "outputs": [
        {
          "output_type": "stream",
          "name": "stdout",
          "text": [
            "Training img:2028 label:2028 Test img:730 label:730\n"
          ]
        }
      ]
    },
    {
      "cell_type": "markdown",
      "source": [
        "**What is the range of intensity values of a sample image and label?**\n"
      ],
      "metadata": {
        "id": "yhnmC6JgZRbr"
      }
    },
    {
      "cell_type": "code",
      "source": [
        "# What is the range of intensity values of the image?\n",
        "print(f'Image Intensity Max:{ np.max(sample_img)} Min:{np.min(sample_img)}')\n",
        "print(f'Label Intensity Min:{np.max(sample_label)} Min:{np.min(sample_label)}')"
      ],
      "metadata": {
        "colab": {
          "base_uri": "https://localhost:8080/"
        },
        "id": "RdUCxeHUS4pc",
        "outputId": "4812e9f6-dd22-458f-e9a8-55904f8a0d83"
      },
      "execution_count": 91,
      "outputs": [
        {
          "output_type": "stream",
          "name": "stdout",
          "text": [
            "Image Intensity Max:255 Min:0\n",
            "Label Intensity Min:1 Min:0\n"
          ]
        }
      ]
    },
    {
      "cell_type": "markdown",
      "source": [
        "**How many images contain different types of labels?**\n"
      ],
      "metadata": {
        "id": "-mSFDt41i8ZW"
      }
    },
    {
      "cell_type": "code",
      "source": [
        "label_path = '/content/Task01_BrainTumour_2D/training_labels'\n",
        "label_names = sorted(os.listdir(label_path))\n",
        "label_counts ={}\n",
        "for name in label_names:\n",
        "  label = imageio.imread(os.path.join(label_path,name))\n",
        "  unique_labels = np.unique(label)\n",
        "  for label_key in unique_labels:\n",
        "    if label_key not in label_counts:\n",
        "      label_counts[label_key] = 1\n",
        "    else:\n",
        "      label_counts[label_key] += 1\n",
        "print(label_counts)"
      ],
      "metadata": {
        "colab": {
          "base_uri": "https://localhost:8080/"
        },
        "id": "HQVxpyM9jMyl",
        "outputId": "72d8f168-c368-41df-e139-80b4a1a1bd97"
      },
      "execution_count": 96,
      "outputs": [
        {
          "output_type": "stream",
          "name": "stdout",
          "text": [
            "{0: 2028, 1: 1422, 2: 1007, 3: 899}\n"
          ]
        }
      ]
    },
    {
      "cell_type": "markdown",
      "source": [
        "\n",
        "Not all the images contain tumour. Edema occurs lot more often that enhancing and non-enhancing tumor."
      ],
      "metadata": {
        "id": "Y5pGPu6GoIXG"
      }
    },
    {
      "cell_type": "markdown",
      "source": [
        "**What does a typical intensity distribution look like?**\n"
      ],
      "metadata": {
        "id": "sle_xnYhZWUm"
      }
    },
    {
      "cell_type": "code",
      "source": [
        "# What does a typical intensity distribution look like?\n",
        "histogram,bin_edges = np.histogram(sample_img,bins=10,range=(0,1))\n",
        "plt.figure()\n",
        "plt.subplot(121)\n",
        "plt.title('Image')\n",
        "plt.imshow(sample_img,cmap='gray')\n",
        "plt.subplot(122)\n",
        "plt.title('Grayscale Histogram')\n",
        "plt.xlabel('Grayscale value')\n",
        "plt.ylabel('pixel count')\n",
        "plt.plot(bin_edges[0:-1],histogram)\n",
        "             "
      ],
      "metadata": {
        "colab": {
          "base_uri": "https://localhost:8080/",
          "height": 312
        },
        "id": "470JyLeKSyM2",
        "outputId": "de1a758a-aa50-4406-a015-fe45d0b5f5da"
      },
      "execution_count": 92,
      "outputs": [
        {
          "output_type": "execute_result",
          "data": {
            "text/plain": [
              "[<matplotlib.lines.Line2D at 0x7f8420066f90>]"
            ]
          },
          "metadata": {},
          "execution_count": 92
        },
        {
          "output_type": "display_data",
          "data": {
            "text/plain": [
              "<Figure size 432x288 with 2 Axes>"
            ],
            "image/png": "[encoded data removed]"
          },
          "metadata": {
            "needs_background": "light"
          }
        }
      ]
    },
    {
      "cell_type": "markdown",
      "source": [
        "**Normalize Input: mean-centered and unit variance**\n",
        "\n",
        "Originally, the image is in the range (0,1). \n",
        "\n",
        "We will preprocess the image so that most of the values lie in the range (-1,1). We will have both positive and negative values as input. This step might be optional."
      ],
      "metadata": {
        "id": "AM0QKq02ZdrQ"
      }
    },
    {
      "cell_type": "code",
      "source": [
        "def normalize_intensity(image,thres_roi=1.0):\n",
        "  \"\"\" Normalize the image intensity by the mean and standard deviation\n",
        "  \n",
        "  Parameters:\n",
        "  thres_roi (float): Use this percentage threshold to calculate \n",
        "    mean and std. This allows us to ignore extreme values when \n",
        "    mean centering.\n",
        "  \"\"\"\n",
        "  val_l = np.percentile(image,thres_roi)\n",
        "  roi = (image >= val_l)\n",
        "  mu, sigma = np.mean(image[roi]),np.std(image[roi])\n",
        "  eps = 1e-6\n",
        "  return (image - mu) / (sigma + eps)"
      ],
      "metadata": {
        "id": "cPkDb7L6N0GN"
      },
      "execution_count": 93,
      "outputs": []
    },
    {
      "cell_type": "code",
      "source": [
        "normalized_img = normalize_intensity(sample_img)\n",
        "print(f'Normalized Img Min:{np.min(normalized_img)} Max:{np.max(normalized_img)}')\n",
        "histogram,bin_edges = np.histogram(normalized_img,bins=10,range=(-1,1))\n",
        "\n",
        "plt.figure()\n",
        "plt.subplot(121)\n",
        "plt.title('Normalized Image')\n",
        "plt.imshow(normalized_img,cmap='gray')\n",
        "plt.subplot(122)\n",
        "plt.title('Grayscale Histogram after Mean Centering')\n",
        "plt.xlabel('Grayscale value')\n",
        "plt.ylabel('pixel count')\n",
        "plt.plot(bin_edges[0:-1],histogram)"
      ],
      "metadata": {
        "colab": {
          "base_uri": "https://localhost:8080/",
          "height": 330
        },
        "id": "1LaV8xAPQ8R5",
        "outputId": "023a25e7-e171-4476-a6f6-5a54dca5a657"
      },
      "execution_count": 94,
      "outputs": [
        {
          "output_type": "stream",
          "name": "stdout",
          "text": [
            "Normalized Img Min:-0.3785452715215437 Max:4.338945996235364\n"
          ]
        },
        {
          "output_type": "execute_result",
          "data": {
            "text/plain": [
              "[<matplotlib.lines.Line2D at 0x7f841ffc2190>]"
            ]
          },
          "metadata": {},
          "execution_count": 94
        },
        {
          "output_type": "display_data",
          "data": {
            "text/plain": [
              "<Figure size 432x288 with 2 Axes>"
            ],
            "image/png": "[encoded data removed]"
          },
          "metadata": {
            "needs_background": "light"
          }
        }
      ]
    },
    {
      "cell_type": "markdown",
      "source": [
        "**Train the segmentation model**"
      ],
      "metadata": {
        "id": "WxVcGgLmaUK2"
      }
    },
    {
      "cell_type": "markdown",
      "source": [
        "Before we start writing code to train the model, Lets write a separate class for processing and feeding data to the training code. This will make the code more readable and modular. This is now a standard practice.Deep Learning frameworks like Pytorch provides utility code for common cases via *Dataset* class. "
      ],
      "metadata": {
        "id": "XUZ-v4X6bZC_"
      }
    },
    {
      "cell_type": "code",
      "source": [
        "# https://pytorch.org/tutorials/beginner/basics/data_tutorial.html\n",
        "class BrainImageSet(Dataset):\n",
        "  \"\"\"\n",
        "  Parameters:\n",
        "  image_path (str): directory containing images\n",
        "  label_path (str): directory containing labels\n",
        "\n",
        "  images (List:np.ndarray): \n",
        "  labels (List:np.ndarray):\n",
        "\n",
        "  For each i-th image, \n",
        "  the corresponding label is in the i-th location of *labels* List. \n",
        "  \"\"\"\n",
        "  def __init__(self, image_path, label_path):\n",
        "    self.image_path = image_path\n",
        "    self.images = []\n",
        "    self.labels = []\n",
        "\n",
        "    # list of image names, not complete filepath\n",
        "    image_names = sorted(os.listdir(image_path))\n",
        "    for name in image_names:\n",
        "      # Read the image\n",
        "      image = imageio.imread(os.path.join(image_path,name))\n",
        "      self.images += [image]\n",
        "\n",
        "      # Read the label map\n",
        "      label_name = os.path.join(label_path,name)\n",
        "      label = imageio.imread(label_name)\n",
        "      self.labels += [label]\n",
        "\n",
        "    assert len(self.images) == len(self.labels), f'Number of images{{len(self.images)}} and labels({len(self.labels)}) differ.'\n",
        "\n",
        "  def __len__(self):\n",
        "    return len(self.images)\n",
        "  \n",
        "  def __getitem__(self,idx):\n",
        "    # Get an image and perform intensity normalization\n",
        "    # Dimension: XY\n",
        "    image = normalize_intensity(self.images[idx])\n",
        "\n",
        "    # Get its label map\n",
        "    # Dimension: XY\n",
        "    label = self.labels[idx]\n",
        "    return image, label\n",
        "  \n",
        "  def get_random_batch(self,batch_size):\n",
        "    # Get a batch of paired images and label maps\n",
        "    # Dimension of images: NCXY\n",
        "    # Dimension of labels: NXY\n",
        "    images, labels = [], []\n",
        "\n",
        "    ### Insert your code ###\n",
        "    idx = np.random.choice(len(self.images),size=batch_size)\n",
        "\n",
        "    images = [np.expand_dims(self.images[i],axis=0) for i in idx] # add channel\n",
        "    labels = [self.labels[i] for i in idx] \n",
        "\n",
        "    ### End of your code ###\n",
        "\n",
        "    return np.array(images), np.array(labels)"
      ],
      "metadata": {
        "id": "4ks_vTnjbBQu"
      },
      "execution_count": 125,
      "outputs": []
    },
    {
      "cell_type": "code",
      "source": [
        "train_set = BrainImageSet(image_path='/content/Task01_BrainTumour_2D/training_images/',\n",
        "              label_path='/content/Task01_BrainTumour_2D/training_labels/')"
      ],
      "metadata": {
        "id": "z2kugm15d3Hu"
      },
      "execution_count": 126,
      "outputs": []
    },
    {
      "cell_type": "code",
      "source": [
        "\n",
        "model_dir = 'saved_models'\n",
        "if not os.path.exists(model_dir):\n",
        "  os.makedirs(model_dir)\n"
      ],
      "metadata": {
        "id": "NOyhtiQ5aeeA"
      },
      "execution_count": 101,
      "outputs": []
    },
    {
      "cell_type": "code",
      "source": [
        "class BaselineSegmentationModel(nn.Module):\n",
        "  def __init__(self,input_channel=1,output_channel=4,num_filter=16):\n",
        "    super().__init__()\n",
        "\n",
        "    # Encoder path\n",
        "    n = num_filter #16\n",
        "    self.conv1 = nn.Sequential(\n",
        "        nn.Conv2d(input_channel,n,kernel_size=3,padding=1),\n",
        "        nn.BatchNorm2d(n),\n",
        "        nn.ReLU(),\n",
        "        nn.Conv2d(n,n,kernel_size=3,padding=1),\n",
        "        nn.BatchNorm2d(n),\n",
        "        nn.ReLU()\n",
        "    )\n",
        "\n",
        "    n *= 2 #32\n",
        "    self.conv2 = nn.Sequential(\n",
        "        nn.Conv2d(int(n/2),n,kernel_size=3,stride=2,padding=1),\n",
        "        nn.BatchNorm2d(n),\n",
        "        nn.ReLU(),\n",
        "        nn.Conv2d(n,n,kernel_size=3,padding=1),\n",
        "        nn.BatchNorm2d(n),\n",
        "        nn.ReLU()\n",
        "    )\n",
        "    n *= 2  # 64\n",
        "    self.conv3 = nn.Sequential(\n",
        "        nn.Conv2d(int(n / 2), n, kernel_size=3, stride=2, padding=1),\n",
        "        nn.BatchNorm2d(n),\n",
        "        nn.ReLU(),\n",
        "        nn.Conv2d(n, n, kernel_size=3, padding=1),\n",
        "        nn.BatchNorm2d(n),\n",
        "        nn.ReLU()\n",
        "    )\n",
        "\n",
        "    n *= 2  # 128\n",
        "    self.conv4 = nn.Sequential(\n",
        "        nn.Conv2d(int(n / 2), n, kernel_size=3, stride=2, padding=1),\n",
        "        nn.BatchNorm2d(n),\n",
        "        nn.ReLU(),\n",
        "        nn.Conv2d(n, n, kernel_size=3, padding=1),\n",
        "        nn.BatchNorm2d(n),\n",
        "        nn.ReLU()\n",
        "    )    \n",
        "\n",
        "    # Decoder path\n",
        "    n = int(n / 2)  # 64\n",
        "    self.up3 = nn.ConvTranspose2d(n * 2, n, kernel_size=3, stride=2, padding=1, output_padding=1)\n",
        "    self.conv_up3 = nn.Sequential(\n",
        "        nn.Conv2d(n * 2, n, kernel_size=3, padding=1),\n",
        "        nn.BatchNorm2d(n),\n",
        "        nn.ReLU(),\n",
        "        nn.Conv2d(n, n, kernel_size=3, padding=1),\n",
        "        nn.BatchNorm2d(n),\n",
        "        nn.ReLU()\n",
        "    )\n",
        "\n",
        "    n = int(n / 2)  # 32\n",
        "    self.up2 = nn.ConvTranspose2d(n * 2, n, kernel_size=3, stride=2, padding=1, output_padding=1)\n",
        "    self.conv_up2 = nn.Sequential(\n",
        "        nn.Conv2d(n * 2, n, kernel_size=3, padding=1),\n",
        "        nn.BatchNorm2d(n),\n",
        "        nn.ReLU(),\n",
        "        nn.Conv2d(n, n, kernel_size=3, padding=1),\n",
        "        nn.BatchNorm2d(n),\n",
        "        nn.ReLU()\n",
        "    )\n",
        "\n",
        "    n = int(n / 2)  # 16\n",
        "    self.up1 = nn.ConvTranspose2d(n * 2, n, kernel_size=3, stride=2, padding=1, output_padding=1)\n",
        "    self.conv_up1 = nn.Sequential(\n",
        "        nn.Conv2d(n * 2, n, kernel_size=3, padding=1),\n",
        "        nn.BatchNorm2d(n),\n",
        "        nn.ReLU(),\n",
        "        nn.Conv2d(n, n, kernel_size=3, padding=1),\n",
        "        nn.BatchNorm2d(n),\n",
        "        nn.ReLU()\n",
        "    )\n",
        "\n",
        "    # Output\n",
        "    self.out = nn.Conv2d(n, output_channel, kernel_size=1, padding=0)\n",
        "\n",
        "  def forward(self, x):\n",
        "    # Encoder\n",
        "    x = self.conv1(x)\n",
        "    x = self.conv2(x)\n",
        "    x = self.conv3(x)\n",
        "    x = self.conv4(x)\n",
        "    x = self.up3(x)\n",
        "    x = self.up2(x)\n",
        "    x = self.up1(x)\n",
        "    x = self.out(x)\n",
        "    return x"
      ],
      "metadata": {
        "id": "mk3f4veI3GaI"
      },
      "execution_count": 159,
      "outputs": []
    },
    {
      "cell_type": "code",
      "source": [
        "# CUDA device\n",
        "device = torch.device('cuda' if torch.cuda.is_available() else 'cpu')\n",
        "print(f'Device: {device}')\n",
        "\n",
        "# Build the model\n",
        "num_class = 4\n",
        "model = BaselineSegmentationModel(input_channel=1,output_channel=4)\n",
        "model = model.to(device)\n"
      ],
      "metadata": {
        "colab": {
          "base_uri": "https://localhost:8080/"
        },
        "id": "y566OoP4XMiL",
        "outputId": "b0c31a5e-34ae-42e5-d68e-65fc8885b67b"
      },
      "execution_count": 160,
      "outputs": [
        {
          "output_type": "stream",
          "name": "stdout",
          "text": [
            "Device: cpu\n"
          ]
        }
      ]
    },
    {
      "cell_type": "code",
      "source": [
        "params = list(model.parameters()) # think of these as \\theta in the linear model\n",
        "optimizer = Adam(params,lr=1e-3)\n",
        "cost_function = nn.CrossEntropyLoss()\n"
      ],
      "metadata": {
        "id": "t5ML0LlAo8mV"
      },
      "execution_count": 161,
      "outputs": []
    },
    {
      "cell_type": "markdown",
      "source": [
        "**Test the pipeline**\n",
        "\n",
        "pass the input through the model, evaluate the cost function and see if we get reasonable values."
      ],
      "metadata": {
        "id": "oJ9VLgx4_8KU"
      }
    },
    {
      "cell_type": "code",
      "source": [
        "\n",
        "# Get a batch of images and labels\n",
        "images, labels = train_set.get_random_batch(4)\n",
        "images, labels = torch.from_numpy(images), torch.from_numpy(labels)\n",
        "images, labels = images.to(device,dtype=torch.float32), labels.to(device,dtype=torch.long)\n",
        "logits = model(images) \n",
        "# we used cross-entropy loss, so the expected output is\n",
        "# unnormalized logits for each class\n",
        "\n",
        "optimizer.zero_grad()\n",
        "with torch.no_grad():\n",
        "  plt.title('logit Histogram')\n",
        "  plt.xlabel('logit values')\n",
        "  plt.ylabel('count')\n",
        "  hist,bin_edges = torch.histogram(logits,bins=10)\n",
        "  plt.plot(bin_edges[0:-1],hist)\n",
        "  "
      ],
      "metadata": {
        "colab": {
          "base_uri": "https://localhost:8080/",
          "height": 295
        },
        "id": "FxAlaWI-5fR2",
        "outputId": "3e14648a-6325-47c9-f3b2-482759858cdb"
      },
      "execution_count": 165,
      "outputs": [
        {
          "output_type": "display_data",
          "data": {
            "text/plain": [
              "<Figure size 432x288 with 1 Axes>"
            ],
            "image/png": "[encoded data removed]"
          },
          "metadata": {
            "needs_background": "light"
          }
        }
      ]
    },
    {
      "cell_type": "markdown",
      "source": [
        "The logits histogram shows that the output of the model is not probabilities (there are negative values in the output) but unnormalized values. This is ok because we use nn.CrossEntropyLoss which normalizes and converts them to probabilities.\n",
        "\n",
        "If we had used some other loss function, we might have had to transform the logits to probabilities ourselves.\n",
        "\n",
        "https://pytorch.org/docs/stable/generated/torch.nn.CrossEntropyLoss.html"
      ],
      "metadata": {
        "id": "o1tKOHCr_ghc"
      }
    },
    {
      "cell_type": "markdown",
      "source": [
        "**Train the model**"
      ],
      "metadata": {
        "id": "ifqatwN3BC0U"
      }
    },
    {
      "cell_type": "code",
      "source": [
        "# Train the model\n",
        "num_iter = 1000\n",
        "train_batch_size = 16\n",
        "start = time.time()\n",
        "for i in range(1,1+ num_iter):\n",
        "  # Set the modules in training mode, which will have effects on certain modules\n",
        "  start_iter = time.time()\n",
        "  model.train()\n",
        "  optimizer.zero_grad()\n",
        "\n",
        "  # Get a batch of images and labels\n",
        "  images, labels = train_set.get_random_batch(train_batch_size)\n",
        "  images, labels = torch.from_numpy(images), torch.from_numpy(labels)\n",
        "  images, labels = images.to(device,dtype=torch.float32), labels.to(device,dtype=torch.long)\n",
        "  logits = model(images)\n",
        "\n",
        "\n",
        "  # Perform optimization\n",
        "  #### Insert your code ####\n",
        "\n",
        "  loss_value = cost_function(logits,labels)\n",
        "  loss_value.backward()\n",
        "  #### End of your code ###\n",
        "\n",
        "  print(f'--- Iteration {i}: Training loss = {loss_value.item():.4f} Elapsed Time: {time.time() - start_iter:.4f} sec')\n",
        "\n",
        "print(f'Training took {time.time() - start:.3f} sec')"
      ],
      "metadata": {
        "id": "Es573QnGpLgD"
      },
      "execution_count": null,
      "outputs": []
    },
    {
      "cell_type": "code",
      "source": [],
      "metadata": {
        "id": "0ttL34FVB9x-"
      },
      "execution_count": null,
      "outputs": []
    }
  ]
}