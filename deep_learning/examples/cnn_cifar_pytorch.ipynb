{
  "nbformat": 4,
  "nbformat_minor": 0,
  "metadata": {
    "colab": {
      "provenance": [],
      "authorship_tag": "ABX9TyMgPpX4zQSTHbB1b/3ielpR",
      "include_colab_link": true
    },
    "kernelspec": {
      "name": "python3",
      "display_name": "Python 3"
    },
    "language_info": {
      "name": "python"
    },
    "widgets": {
      "application/vnd.jupyter.widget-state+json": {
        "c1036fc6873e4a72ba0adbb84d6328b0": {
          "model_module": "@jupyter-widgets/controls",
          "model_name": "HBoxModel",
          "model_module_version": "1.5.0",
          "state": {
            "_dom_classes": [],
            "_model_module": "@jupyter-widgets/controls",
            "_model_module_version": "1.5.0",
            "_model_name": "HBoxModel",
            "_view_count": null,
            "_view_module": "@jupyter-widgets/controls",
            "_view_module_version": "1.5.0",
            "_view_name": "HBoxView",
            "box_style": "",
            "children": [
              "IPY_MODEL_3a1a41738ff8449485241eafc26655ae",
              "IPY_MODEL_6dc593901aae4f7399948b020cd77148",
              "IPY_MODEL_65d515e9d3dd4333ba1542f6d4a56228"
            ],
            "layout": "IPY_MODEL_e2e5a346a53845f78cfb2dc56312770c"
          }
        },
        "3a1a41738ff8449485241eafc26655ae": {
          "model_module": "@jupyter-widgets/controls",
          "model_name": "HTMLModel",
          "model_module_version": "1.5.0",
          "state": {
            "_dom_classes": [],
            "_model_module": "@jupyter-widgets/controls",
            "_model_module_version": "1.5.0",
            "_model_name": "HTMLModel",
            "_view_count": null,
            "_view_module": "@jupyter-widgets/controls",
            "_view_module_version": "1.5.0",
            "_view_name": "HTMLView",
            "description": "",
            "description_tooltip": null,
            "layout": "IPY_MODEL_fb63e29d27844af4b43e203b0bf4c80f",
            "placeholder": "​",
            "style": "IPY_MODEL_166fa9843d9648d4bfb97834e3dda185",
            "value": "100%"
          }
        },
        "6dc593901aae4f7399948b020cd77148": {
          "model_module": "@jupyter-widgets/controls",
          "model_name": "FloatProgressModel",
          "model_module_version": "1.5.0",
          "state": {
            "_dom_classes": [],
            "_model_module": "@jupyter-widgets/controls",
            "_model_module_version": "1.5.0",
            "_model_name": "FloatProgressModel",
            "_view_count": null,
            "_view_module": "@jupyter-widgets/controls",
            "_view_module_version": "1.5.0",
            "_view_name": "ProgressView",
            "bar_style": "success",
            "description": "",
            "description_tooltip": null,
            "layout": "IPY_MODEL_8a244af3129643d58a7a4635ef3fcf60",
            "max": 170498071,
            "min": 0,
            "orientation": "horizontal",
            "style": "IPY_MODEL_55297084b52341ecbff2c856934018b9",
            "value": 170498071
          }
        },
        "65d515e9d3dd4333ba1542f6d4a56228": {
          "model_module": "@jupyter-widgets/controls",
          "model_name": "HTMLModel",
          "model_module_version": "1.5.0",
          "state": {
            "_dom_classes": [],
            "_model_module": "@jupyter-widgets/controls",
            "_model_module_version": "1.5.0",
            "_model_name": "HTMLModel",
            "_view_count": null,
            "_view_module": "@jupyter-widgets/controls",
            "_view_module_version": "1.5.0",
            "_view_name": "HTMLView",
            "description": "",
            "description_tooltip": null,
            "layout": "IPY_MODEL_cbbc67bfce6d4bee98e1ee062da4728b",
            "placeholder": "​",
            "style": "IPY_MODEL_acc5f3c907084a65b2257b6f06132591",
            "value": " 170498071/170498071 [00:02&lt;00:00, 45341567.70it/s]"
          }
        },
        "e2e5a346a53845f78cfb2dc56312770c": {
          "model_module": "@jupyter-widgets/base",
          "model_name": "LayoutModel",
          "model_module_version": "1.2.0",
          "state": {
            "_model_module": "@jupyter-widgets/base",
            "_model_module_version": "1.2.0",
            "_model_name": "LayoutModel",
            "_view_count": null,
            "_view_module": "@jupyter-widgets/base",
            "_view_module_version": "1.2.0",
            "_view_name": "LayoutView",
            "align_content": null,
            "align_items": null,
            "align_self": null,
            "border": null,
            "bottom": null,
            "display": null,
            "flex": null,
            "flex_flow": null,
            "grid_area": null,
            "grid_auto_columns": null,
            "grid_auto_flow": null,
            "grid_auto_rows": null,
            "grid_column": null,
            "grid_gap": null,
            "grid_row": null,
            "grid_template_areas": null,
            "grid_template_columns": null,
            "grid_template_rows": null,
            "height": null,
            "justify_content": null,
            "justify_items": null,
            "left": null,
            "margin": null,
            "max_height": null,
            "max_width": null,
            "min_height": null,
            "min_width": null,
            "object_fit": null,
            "object_position": null,
            "order": null,
            "overflow": null,
            "overflow_x": null,
            "overflow_y": null,
            "padding": null,
            "right": null,
            "top": null,
            "visibility": null,
            "width": null
          }
        },
        "fb63e29d27844af4b43e203b0bf4c80f": {
          "model_module": "@jupyter-widgets/base",
          "model_name": "LayoutModel",
          "model_module_version": "1.2.0",
          "state": {
            "_model_module": "@jupyter-widgets/base",
            "_model_module_version": "1.2.0",
            "_model_name": "LayoutModel",
            "_view_count": null,
            "_view_module": "@jupyter-widgets/base",
            "_view_module_version": "1.2.0",
            "_view_name": "LayoutView",
            "align_content": null,
            "align_items": null,
            "align_self": null,
            "border": null,
            "bottom": null,
            "display": null,
            "flex": null,
            "flex_flow": null,
            "grid_area": null,
            "grid_auto_columns": null,
            "grid_auto_flow": null,
            "grid_auto_rows": null,
            "grid_column": null,
            "grid_gap": null,
            "grid_row": null,
            "grid_template_areas": null,
            "grid_template_columns": null,
            "grid_template_rows": null,
            "height": null,
            "justify_content": null,
            "justify_items": null,
            "left": null,
            "margin": null,
            "max_height": null,
            "max_width": null,
            "min_height": null,
            "min_width": null,
            "object_fit": null,
            "object_position": null,
            "order": null,
            "overflow": null,
            "overflow_x": null,
            "overflow_y": null,
            "padding": null,
            "right": null,
            "top": null,
            "visibility": null,
            "width": null
          }
        },
        "166fa9843d9648d4bfb97834e3dda185": {
          "model_module": "@jupyter-widgets/controls",
          "model_name": "DescriptionStyleModel",
          "model_module_version": "1.5.0",
          "state": {
            "_model_module": "@jupyter-widgets/controls",
            "_model_module_version": "1.5.0",
            "_model_name": "DescriptionStyleModel",
            "_view_count": null,
            "_view_module": "@jupyter-widgets/base",
            "_view_module_version": "1.2.0",
            "_view_name": "StyleView",
            "description_width": ""
          }
        },
        "8a244af3129643d58a7a4635ef3fcf60": {
          "model_module": "@jupyter-widgets/base",
          "model_name": "LayoutModel",
          "model_module_version": "1.2.0",
          "state": {
            "_model_module": "@jupyter-widgets/base",
            "_model_module_version": "1.2.0",
            "_model_name": "LayoutModel",
            "_view_count": null,
            "_view_module": "@jupyter-widgets/base",
            "_view_module_version": "1.2.0",
            "_view_name": "LayoutView",
            "align_content": null,
            "align_items": null,
            "align_self": null,
            "border": null,
            "bottom": null,
            "display": null,
            "flex": null,
            "flex_flow": null,
            "grid_area": null,
            "grid_auto_columns": null,
            "grid_auto_flow": null,
            "grid_auto_rows": null,
            "grid_column": null,
            "grid_gap": null,
            "grid_row": null,
            "grid_template_areas": null,
            "grid_template_columns": null,
            "grid_template_rows": null,
            "height": null,
            "justify_content": null,
            "justify_items": null,
            "left": null,
            "margin": null,
            "max_height": null,
            "max_width": null,
            "min_height": null,
            "min_width": null,
            "object_fit": null,
            "object_position": null,
            "order": null,
            "overflow": null,
            "overflow_x": null,
            "overflow_y": null,
            "padding": null,
            "right": null,
            "top": null,
            "visibility": null,
            "width": null
          }
        },
        "55297084b52341ecbff2c856934018b9": {
          "model_module": "@jupyter-widgets/controls",
          "model_name": "ProgressStyleModel",
          "model_module_version": "1.5.0",
          "state": {
            "_model_module": "@jupyter-widgets/controls",
            "_model_module_version": "1.5.0",
            "_model_name": "ProgressStyleModel",
            "_view_count": null,
            "_view_module": "@jupyter-widgets/base",
            "_view_module_version": "1.2.0",
            "_view_name": "StyleView",
            "bar_color": null,
            "description_width": ""
          }
        },
        "cbbc67bfce6d4bee98e1ee062da4728b": {
          "model_module": "@jupyter-widgets/base",
          "model_name": "LayoutModel",
          "model_module_version": "1.2.0",
          "state": {
            "_model_module": "@jupyter-widgets/base",
            "_model_module_version": "1.2.0",
            "_model_name": "LayoutModel",
            "_view_count": null,
            "_view_module": "@jupyter-widgets/base",
            "_view_module_version": "1.2.0",
            "_view_name": "LayoutView",
            "align_content": null,
            "align_items": null,
            "align_self": null,
            "border": null,
            "bottom": null,
            "display": null,
            "flex": null,
            "flex_flow": null,
            "grid_area": null,
            "grid_auto_columns": null,
            "grid_auto_flow": null,
            "grid_auto_rows": null,
            "grid_column": null,
            "grid_gap": null,
            "grid_row": null,
            "grid_template_areas": null,
            "grid_template_columns": null,
            "grid_template_rows": null,
            "height": null,
            "justify_content": null,
            "justify_items": null,
            "left": null,
            "margin": null,
            "max_height": null,
            "max_width": null,
            "min_height": null,
            "min_width": null,
            "object_fit": null,
            "object_position": null,
            "order": null,
            "overflow": null,
            "overflow_x": null,
            "overflow_y": null,
            "padding": null,
            "right": null,
            "top": null,
            "visibility": null,
            "width": null
          }
        },
        "acc5f3c907084a65b2257b6f06132591": {
          "model_module": "@jupyter-widgets/controls",
          "model_name": "DescriptionStyleModel",
          "model_module_version": "1.5.0",
          "state": {
            "_model_module": "@jupyter-widgets/controls",
            "_model_module_version": "1.5.0",
            "_model_name": "DescriptionStyleModel",
            "_view_count": null,
            "_view_module": "@jupyter-widgets/base",
            "_view_module_version": "1.2.0",
            "_view_name": "StyleView",
            "description_width": ""
          }
        }
      }
    }
  },
  "cells": [
    {
      "cell_type": "markdown",
      "metadata": {
        "id": "view-in-github",
        "colab_type": "text"
      },
      "source": [
        "<a href=\"https://colab.research.google.com/github/msrepo/ml-mscise-2023/blob/master/deep_learning/examples/cnn_cifar_pytorch.ipynb\" target=\"_parent\"><img src=\"https://colab.research.google.com/assets/colab-badge.svg\" alt=\"Open In Colab\"/></a>"
      ]
    },
    {
      "cell_type": "markdown",
      "source": [
        "Original notebook: Probabilistic Machine Learning, Kevin Murphy\n",
        "\n",
        "[Original Github repo\n",
        "](https://github.com/probml)"
      ],
      "metadata": {
        "id": "WSB8E1WeAsLC"
      }
    },
    {
      "cell_type": "markdown",
      "source": [
        "### CNN for image classification using Pytorch\n",
        "\n",
        "In this section, we follow Chap 8 of Deep Learning with Pytorch book, and illustrate how to fit a CNN to two-class version of CIFAR."
      ],
      "metadata": {
        "id": "wLXjWtxwAnA2"
      }
    },
    {
      "cell_type": "code",
      "source": [
        "import numpy as np\n",
        "import matplotlib.pyplot as plt\n",
        "import itertools\n",
        "import time\n",
        "from functools import partial\n",
        "import os\n",
        "import collections\n",
        "import datetime\n",
        "\n",
        "import torch\n",
        "import torch.nn as nn\n",
        "import torch.nn.functional as F\n",
        "import torch.optim as optim\n",
        "import torchvision\n",
        "\n",
        "use_cuda = torch.cuda.is_available()\n",
        "device = torch.device(\"cuda\" if use_cuda else \"cpu\")"
      ],
      "metadata": {
        "id": "Jv6940wFA-ej"
      },
      "execution_count": 1,
      "outputs": []
    },
    {
      "cell_type": "code",
      "source": [
        "def set_seed(seed):\n",
        "  np.random.seed(seed)\n",
        "  torch.manual_seed(seed)\n",
        "  torch.cuda.manual_seed_all(seed)"
      ],
      "metadata": {
        "id": "gIH6A8N7B3zP"
      },
      "execution_count": 2,
      "outputs": []
    },
    {
      "cell_type": "markdown",
      "source": [
        "## Get data\n",
        "The images are mean centered. The mean/std of RGB channels are precomputed."
      ],
      "metadata": {
        "id": "DljGt82iB-J_"
      }
    },
    {
      "cell_type": "code",
      "source": [
        "\n",
        "\n",
        "class_names = [\"airplane\", \"automobile\", \"bird\", \"cat\", \"deer\", \"dog\", \"frog\", \"horse\", \"ship\", \"truck\"]\n",
        "\n",
        "from torchvision import datasets, transforms\n",
        "\n",
        "data_path = \"data\"\n",
        "cifar10 = datasets.CIFAR10(\n",
        "    data_path,\n",
        "    train=True,\n",
        "    download=True,\n",
        "    transform=transforms.Compose(\n",
        "        [transforms.ToTensor(), transforms.Normalize((0.4915, 0.4823, 0.4468), (0.2470, 0.2435, 0.2616))]\n",
        "    ),\n",
        ")\n",
        "\n",
        "cifar10_val = datasets.CIFAR10(\n",
        "    data_path,\n",
        "    train=False,\n",
        "    download=True,\n",
        "    transform=transforms.Compose(\n",
        "        [transforms.ToTensor(), transforms.Normalize((0.4915, 0.4823, 0.4468), (0.2470, 0.2435, 0.2616))]\n",
        "    ),\n",
        ")\n",
        "     \n"
      ],
      "metadata": {
        "colab": {
          "base_uri": "https://localhost:8080/",
          "height": 104,
          "referenced_widgets": [
            "c1036fc6873e4a72ba0adbb84d6328b0",
            "3a1a41738ff8449485241eafc26655ae",
            "6dc593901aae4f7399948b020cd77148",
            "65d515e9d3dd4333ba1542f6d4a56228",
            "e2e5a346a53845f78cfb2dc56312770c",
            "fb63e29d27844af4b43e203b0bf4c80f",
            "166fa9843d9648d4bfb97834e3dda185",
            "8a244af3129643d58a7a4635ef3fcf60",
            "55297084b52341ecbff2c856934018b9",
            "cbbc67bfce6d4bee98e1ee062da4728b",
            "acc5f3c907084a65b2257b6f06132591"
          ]
        },
        "id": "4nH-blb0CF2Q",
        "outputId": "2b023763-6f2f-45f2-e861-caed5ff1b777"
      },
      "execution_count": 3,
      "outputs": [
        {
          "output_type": "stream",
          "name": "stdout",
          "text": [
            "Downloading https://www.cs.toronto.edu/~kriz/cifar-10-python.tar.gz to data/cifar-10-python.tar.gz\n"
          ]
        },
        {
          "output_type": "display_data",
          "data": {
            "text/plain": [
              "  0%|          | 0/170498071 [00:00<?, ?it/s]"
            ],
            "application/vnd.jupyter.widget-view+json": {
              "version_major": 2,
              "version_minor": 0,
              "model_id": "c1036fc6873e4a72ba0adbb84d6328b0"
            }
          },
          "metadata": {}
        },
        {
          "output_type": "stream",
          "name": "stdout",
          "text": [
            "Extracting data/cifar-10-python.tar.gz to data\n",
            "Files already downloaded and verified\n"
          ]
        }
      ]
    },
    {
      "cell_type": "markdown",
      "source": [
        "## Basics of Convolution\n",
        "\n",
        "Lets apply a set of convolution kernels to a grayscale image"
      ],
      "metadata": {
        "id": "uuDrZGK0C0_H"
      }
    },
    {
      "cell_type": "code",
      "source": [
        "label_map = {0:0, 2:1}\n",
        "class_names = ['plane', 'bird']\n",
        "nclasses = 2\n",
        "cifar2 = [(img, label_map[label]) for img, label in cifar10 if label in [0, 2]]\n",
        "cifar2_val = [(img, label_map[label]) for img, label in cifar10_val if label in [0, 2]]\n"
      ],
      "metadata": {
        "id": "1MtOWP6pC4Gc"
      },
      "execution_count": 4,
      "outputs": []
    },
    {
      "cell_type": "code",
      "source": [
        "img, label = cifar2[0]\n",
        "img_t = img.unsqueeze(0)\n",
        "print(img_t.shape)\n",
        "\n",
        "nfeatures = 16\n",
        "kernel_size = 3\n",
        "conv = nn.Conv2d(3, nfeatures, kernel_size= kernel_size)\n",
        "output = conv(img_t)\n",
        "print(output.shape)"
      ],
      "metadata": {
        "colab": {
          "base_uri": "https://localhost:8080/"
        },
        "id": "DvoBL66bDWnM",
        "outputId": "5250859c-ef0f-49ec-b43a-5f50c9b0bb06"
      },
      "execution_count": 5,
      "outputs": [
        {
          "output_type": "stream",
          "name": "stdout",
          "text": [
            "torch.Size([1, 3, 32, 32])\n",
            "torch.Size([1, 16, 30, 30])\n"
          ]
        }
      ]
    },
    {
      "cell_type": "markdown",
      "source": [
        "Now we add paddig to ensure output size in same as input"
      ],
      "metadata": {
        "id": "fFfQqGGLDjh8"
      }
    },
    {
      "cell_type": "code",
      "source": [
        "nfeatures = 16\n",
        "kernel_size = 3\n",
        "pad = kernel_size // 2\n",
        "conv = nn.Conv2d(3, nfeatures, kernel_size=kernel_size, padding=pad)\n",
        "\n",
        "output = conv(img_t)\n",
        "print(output.shape)"
      ],
      "metadata": {
        "colab": {
          "base_uri": "https://localhost:8080/"
        },
        "id": "vLe5sK-aDrZe",
        "outputId": "97216a41-6617-433e-f70e-e5c8176fb645"
      },
      "execution_count": 6,
      "outputs": [
        {
          "output_type": "stream",
          "name": "stdout",
          "text": [
            "torch.Size([1, 16, 32, 32])\n"
          ]
        }
      ]
    },
    {
      "cell_type": "code",
      "source": [
        "def show_results(img_batch, output_batch, index=0, channel=0):\n",
        "  ax1 = plt.subplot(1,2,1)\n",
        "  img = img_batch[index]\n",
        "  plt.imshow(img.mean(0), cmap='gray')\n",
        "  plt.title('input')\n",
        "  plt.subplot(1,2,2)\n",
        "  plt.title('output')\n",
        "  out = output_batch[index, channel]\n",
        "  plt.imshow(out.detach(), cmap='gray')\n",
        "  plt.show()\n",
        "\n",
        "show_results(img_t, output)"
      ],
      "metadata": {
        "colab": {
          "base_uri": "https://localhost:8080/",
          "height": 216
        },
        "id": "oZ7jrYTCDzuS",
        "outputId": "e4d8d40c-3178-461e-b34a-1af7df671031"
      },
      "execution_count": 7,
      "outputs": [
        {
          "output_type": "display_data",
          "data": {
            "text/plain": [
              "<Figure size 432x288 with 2 Axes>"
            ],
            "image/png": "[encoded data removed]"
          },
          "metadata": {
            "needs_background": "light"
          }
        }
      ]
    },
    {
      "cell_type": "markdown",
      "source": [
        "currently the filter parameters are random"
      ],
      "metadata": {
        "id": "469AWsvWEPJy"
      }
    },
    {
      "cell_type": "code",
      "source": [
        "print(conv)\n",
        "print(conv.weight.shape)\n",
        "print(conv.bias.shape)\n",
        "print(conv.weight[0,...])"
      ],
      "metadata": {
        "colab": {
          "base_uri": "https://localhost:8080/"
        },
        "id": "tDDqGcKzEYCb",
        "outputId": "e1245fa4-b51b-4ac8-c192-d77d55a63443"
      },
      "execution_count": 8,
      "outputs": [
        {
          "output_type": "stream",
          "name": "stdout",
          "text": [
            "Conv2d(3, 16, kernel_size=(3, 3), stride=(1, 1), padding=(1, 1))\n",
            "torch.Size([16, 3, 3, 3])\n",
            "torch.Size([16])\n",
            "tensor([[[-0.1357, -0.0052, -0.1750],\n",
            "         [-0.0502, -0.1305, -0.0960],\n",
            "         [ 0.1217,  0.0568, -0.0085]],\n",
            "\n",
            "        [[-0.0694,  0.0495,  0.0499],\n",
            "         [ 0.1763,  0.0076,  0.0211],\n",
            "         [-0.0838,  0.1587, -0.1709]],\n",
            "\n",
            "        [[ 0.0200,  0.0612,  0.0432],\n",
            "         [-0.1737, -0.1608, -0.0927],\n",
            "         [ 0.0316, -0.1292, -0.1491]]], grad_fn=<SelectBackward0>)\n"
          ]
        }
      ]
    },
    {
      "cell_type": "markdown",
      "source": [
        "Lets make the first filter just be an averaging operation"
      ],
      "metadata": {
        "id": "pn-g6-uTEd7x"
      }
    },
    {
      "cell_type": "code",
      "source": [
        "with torch.no_grad():\n",
        "  conv.bias.zero_()\n",
        "\n",
        "with torch.no_grad():\n",
        "  conv.weight.fill_(1.0 / 9.0)\n",
        "print(conv.weight[0,...])\n",
        "\n",
        "output = conv(img_t)\n",
        "show_results(img_t, output)"
      ],
      "metadata": {
        "colab": {
          "base_uri": "https://localhost:8080/",
          "height": 418
        },
        "id": "hhzCVBYVEjFR",
        "outputId": "17fa1878-7cb0-4451-b6a9-6a00a03fabb2"
      },
      "execution_count": 9,
      "outputs": [
        {
          "output_type": "stream",
          "name": "stdout",
          "text": [
            "tensor([[[0.1111, 0.1111, 0.1111],\n",
            "         [0.1111, 0.1111, 0.1111],\n",
            "         [0.1111, 0.1111, 0.1111]],\n",
            "\n",
            "        [[0.1111, 0.1111, 0.1111],\n",
            "         [0.1111, 0.1111, 0.1111],\n",
            "         [0.1111, 0.1111, 0.1111]],\n",
            "\n",
            "        [[0.1111, 0.1111, 0.1111],\n",
            "         [0.1111, 0.1111, 0.1111],\n",
            "         [0.1111, 0.1111, 0.1111]]], grad_fn=<SelectBackward0>)\n"
          ]
        },
        {
          "output_type": "display_data",
          "data": {
            "text/plain": [
              "<Figure size 432x288 with 2 Axes>"
            ],
            "image/png": "[encoded data removed]"
          },
          "metadata": {
            "needs_background": "light"
          }
        }
      ]
    },
    {
      "cell_type": "markdown",
      "source": [
        "Lets make the first filter be a vertical edge detector."
      ],
      "metadata": {
        "id": "a7XMuALxEyC0"
      }
    },
    {
      "cell_type": "code",
      "source": [
        "conv = nn.Conv2d(3, 1, kernel_size=3, padding=1)\n",
        "\n",
        "with torch.no_grad():\n",
        "  conv.weight[:] = torch.tensor([[-1.0, 0.0, 1.0], [-1.0, 0.0, 1.0], [-1.0, 0.0, 1.0]])\n",
        "  conv.bias.zero_()\n",
        "\n",
        "output = conv(img_t)\n",
        "show_results(img_t, output)"
      ],
      "metadata": {
        "colab": {
          "base_uri": "https://localhost:8080/",
          "height": 216
        },
        "id": "7pTx2ajME5Ep",
        "outputId": "c3a34257-24e6-4b14-eeb0-defb3c169023"
      },
      "execution_count": 10,
      "outputs": [
        {
          "output_type": "display_data",
          "data": {
            "text/plain": [
              "<Figure size 432x288 with 2 Axes>"
            ],
            "image/png": "[encoded data removed]"
          },
          "metadata": {
            "needs_background": "light"
          }
        }
      ]
    },
    {
      "cell_type": "markdown",
      "source": [
        "## Maxpooling\n",
        "\n",
        "We can reduce the ize of the internal feature maps using maxpooling"
      ],
      "metadata": {
        "id": "TIrDR21pFJkF"
      }
    },
    {
      "cell_type": "code",
      "source": [
        "pool = nn.MaxPool2d(2)\n",
        "output = pool(img_t)\n",
        "print(output.shape)\n",
        "\n",
        "show_results(img_t, output)"
      ],
      "metadata": {
        "colab": {
          "base_uri": "https://localhost:8080/",
          "height": 234
        },
        "id": "HXi5FqoiFL-O",
        "outputId": "9acd311f-f246-4f5d-d4ce-b2dc8267b716"
      },
      "execution_count": 11,
      "outputs": [
        {
          "output_type": "stream",
          "name": "stdout",
          "text": [
            "torch.Size([1, 3, 16, 16])\n"
          ]
        },
        {
          "output_type": "display_data",
          "data": {
            "text/plain": [
              "<Figure size 432x288 with 2 Axes>"
            ],
            "image/png": "[encoded data removed]"
          },
          "metadata": {
            "needs_background": "light"
          }
        }
      ]
    },
    {
      "cell_type": "markdown",
      "source": [
        "## Making our first CNN"
      ],
      "metadata": {
        "id": "1ITuvVA5FWgM"
      }
    },
    {
      "cell_type": "code",
      "source": [
        "import torch.nn.functional as F\n",
        "\n",
        "class Net(nn.Module):\n",
        "  def __init__(self, nclasses, img, nchans1=16, nhidden=32):\n",
        "    super().__init__()\n",
        "    nchannels, nrows, ncols = img.shape\n",
        "    self.nchans1 = nchans1\n",
        "    self.nchans2 = nchans1 // 2\n",
        "    self.nhidden = nhidden\n",
        "    self.nclasses = nclasses\n",
        "    self.conv1 = nn.Conv2d(nchannels, self.nchans1, kernel_size=3, padding=1)\n",
        "    self.conv2 = nn.Conv2d(nchans1, self.nchans2, kernel_size=3, padding=1)\n",
        "\n",
        "    self.nflat = nrows // 4 * ncols // 4\n",
        "    self.fc1 = nn.Linear(self.nchans2 * self.nflat, self.nhidden)\n",
        "    self.fc2 = nn.Linear(self.nhidden, self.nclasses)\n",
        "\n",
        "  def forward(self,x):\n",
        "    out = F.max_pool2d(torch.tanh(self.conv1(x)),2)\n",
        "    out = F.max_pool2d(torch.tanh(self.conv2(out)),2)\n",
        "    out = out.view(-1, self.nchans2 * self.nflat)\n",
        "    out = torch.tanh(self.fc1(out))\n",
        "    out = self.fc2(out)\n",
        "    return out"
      ],
      "metadata": {
        "id": "-Dlk9fWaFk-o"
      },
      "execution_count": 12,
      "outputs": []
    },
    {
      "cell_type": "code",
      "source": [
        "set_seed(1)\n",
        "img_batch = img_t.to(device=device)\n",
        "model = Net(nclasses, img_batch[0]).to(device=device)\n",
        "out_batch = model(img_batch)\n",
        "print(out_batch.shape)\n",
        "print(out_batch)"
      ],
      "metadata": {
        "colab": {
          "base_uri": "https://localhost:8080/"
        },
        "id": "gMzMa-tQGbCV",
        "outputId": "597417e3-0cb8-475c-c9af-806ac9049ff6"
      },
      "execution_count": 13,
      "outputs": [
        {
          "output_type": "stream",
          "name": "stdout",
          "text": [
            "torch.Size([1, 2])\n",
            "tensor([[-0.2489,  0.2137]], grad_fn=<AddmmBackward0>)\n"
          ]
        }
      ]
    },
    {
      "cell_type": "markdown",
      "source": [
        "Training Loop"
      ],
      "metadata": {
        "id": "02eoNoSnGmVL"
      }
    },
    {
      "cell_type": "code",
      "source": [
        "def training_loop(n_epochs, optimizer, model, loss_fn, train_loader, l2_regularizer=0, print_every=5):\n",
        "  for epoch in range(1, n_epochs + 1):\n",
        "    loss_train = 0.0\n",
        "    for imgs, labels in train_loader:\n",
        "      imgs = imgs.to(device=device)\n",
        "      labels = labels.to(device=device)\n",
        "      outputs = model(imgs)\n",
        "      loss = loss_fn(outputs, labels)\n",
        "\n",
        "      l2_norm = sum(p.pow(2.0).sum() for p in model.parameters())\n",
        "      loss = loss + l2_regularizer * l2_norm\n",
        "\n",
        "      optimizer.zero_grad()\n",
        "      loss.backward()\n",
        "      optimizer.step()\n",
        "      loss_train += loss.item()\n",
        "\n",
        "    if epoch == 1 or epoch % print_every == 0:\n",
        "      print(f'{datetime.datetime.now()} Epoch {epoch}, Training loss {loss_train / len(train_loader)}')"
      ],
      "metadata": {
        "id": "iablhGSRG1Ca"
      },
      "execution_count": 14,
      "outputs": []
    },
    {
      "cell_type": "code",
      "source": [
        "train_loader = torch.utils.data.DataLoader(cifar2, batch_size=64, shuffle=True)\n",
        "\n",
        "model = Net(nclasses, img_batch[0]).to(device=device)\n",
        "optimizer = optim.SGD(model.parameters(), lr= 1e-2)\n",
        "loss_fn  = nn.CrossEntropyLoss()\n",
        "\n",
        "training_loop (\n",
        "    n_epochs = 50,\n",
        "    optimizer = optimizer,\n",
        "    model = model,\n",
        "    loss_fn = loss_fn,\n",
        "    train_loader = train_loader\n",
        ")"
      ],
      "metadata": {
        "colab": {
          "base_uri": "https://localhost:8080/"
        },
        "id": "pAzPLiw4Lq52",
        "outputId": "c62a945f-e561-412f-8c95-f4583bdc345d"
      },
      "execution_count": 15,
      "outputs": [
        {
          "output_type": "stream",
          "name": "stdout",
          "text": [
            "2022-12-14 13:36:07.014195 Epoch 1, Training loss 0.5650579876201168\n",
            "2022-12-14 13:36:25.632451 Epoch 5, Training loss 0.4238025394214946\n",
            "2022-12-14 13:36:49.956949 Epoch 10, Training loss 0.3414505463876542\n",
            "2022-12-14 13:37:13.687462 Epoch 15, Training loss 0.31660129936637393\n",
            "2022-12-14 13:37:36.935452 Epoch 20, Training loss 0.3013431436506806\n",
            "2022-12-14 13:38:01.050653 Epoch 25, Training loss 0.2852057010694674\n",
            "2022-12-14 13:38:24.925493 Epoch 30, Training loss 0.2694763391260888\n",
            "2022-12-14 13:38:48.473121 Epoch 35, Training loss 0.25984605790892984\n",
            "2022-12-14 13:39:11.748746 Epoch 40, Training loss 0.24815881375674229\n",
            "2022-12-14 13:39:35.342485 Epoch 45, Training loss 0.2372640558773545\n",
            "2022-12-14 13:39:58.252834 Epoch 50, Training loss 0.2263645263993816\n"
          ]
        }
      ]
    },
    {
      "cell_type": "markdown",
      "source": [
        "## Validation accuracy"
      ],
      "metadata": {
        "id": "Ot91f4VoMia3"
      }
    },
    {
      "cell_type": "code",
      "source": [
        "val_loader = torch.utils.data.DataLoader(cifar2_val, batch_size=64, shuffle=False)\n",
        "\n",
        "def accuracy(model, loader):\n",
        "  correct = 0\n",
        "  total = 0\n",
        "  with torch.no_grad():\n",
        "    for imgs, labels in loader:\n",
        "      imgs = imgs.to(device)\n",
        "      labels = labels.to(device)\n",
        "      outputs = model(imgs)\n",
        "      _, predicted = torch.max(outputs, dim=1)\n",
        "      total += labels.shape[0] # batch size\n",
        "      correct += int((predicted == labels).sum())\n",
        "  accuracy = correct / total\n",
        "  return accuracy"
      ],
      "metadata": {
        "id": "u4sbhg_4MFAB"
      },
      "execution_count": 16,
      "outputs": []
    },
    {
      "cell_type": "code",
      "source": [
        "train_acc = accuracy(model, train_loader)\n",
        "val_acc = accuracy(model, val_loader)\n",
        "print([train_acc, val_acc])"
      ],
      "metadata": {
        "colab": {
          "base_uri": "https://localhost:8080/"
        },
        "id": "XO6F0UdJNABs",
        "outputId": "d31ca41a-d760-470d-b7cb-a298dcc1e9c2"
      },
      "execution_count": 17,
      "outputs": [
        {
          "output_type": "stream",
          "name": "stdout",
          "text": [
            "[0.9086, 0.8825]\n"
          ]
        }
      ]
    },
    {
      "cell_type": "code",
      "source": [],
      "metadata": {
        "id": "8dSO6GEVNUnE"
      },
      "execution_count": 17,
      "outputs": []
    }
  ]
}