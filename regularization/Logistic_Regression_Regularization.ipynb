{
  "nbformat": 4,
  "nbformat_minor": 0,
  "metadata": {
    "colab": {
      "provenance": [],
      "authorship_tag": "ABX9TyPk8LqcT7nt+18f8l4eWBLL",
      "include_colab_link": true
    },
    "kernelspec": {
      "name": "python3",
      "display_name": "Python 3"
    },
    "language_info": {
      "name": "python"
    }
  },
  "cells": [
    {
      "cell_type": "markdown",
      "metadata": {
        "id": "view-in-github",
        "colab_type": "text"
      },
      "source": [
        "<a href=\"https://colab.research.google.com/github/msrepo/ml-mscise-2023/blob/master/regularization/Logistic_Regression_Regularization.ipynb\" target=\"_parent\"><img src=\"https://colab.research.google.com/assets/colab-badge.svg\" alt=\"Open In Colab\"/></a>"
      ]
    },
    {
      "cell_type": "markdown",
      "source": [
        "**Logistic Regression with L2 Regularization**"
      ],
      "metadata": {
        "id": "XWSvMJzR_hQY"
      }
    },
    {
      "cell_type": "code",
      "execution_count": 22,
      "metadata": {
        "id": "UQv-Jo65_dqr"
      },
      "outputs": [],
      "source": [
        "from sklearn.datasets import make_classification\n",
        "import matplotlib.pyplot as plt\n",
        "\n",
        "import numpy as np\n",
        "import torch\n",
        "import torch.nn.functional as F"
      ]
    },
    {
      "cell_type": "code",
      "source": [
        "SEED = 1"
      ],
      "metadata": {
        "id": "vUBEzsm_CYDR"
      },
      "execution_count": 54,
      "outputs": []
    },
    {
      "cell_type": "code",
      "source": [
        "x,y = make_classification(n_features=2,n_redundant=0,class_sep=0.4,random_state=SEED)"
      ],
      "metadata": {
        "id": "HyFMOkYe_xNE"
      },
      "execution_count": 45,
      "outputs": []
    },
    {
      "cell_type": "code",
      "source": [
        "plt.scatter(x[:,0],x[:,1],c=y)"
      ],
      "metadata": {
        "colab": {
          "base_uri": "https://localhost:8080/",
          "height": 283
        },
        "id": "UX4-biFmCG77",
        "outputId": "c87ee34d-c412-4d61-fd8e-69c98c2413e2"
      },
      "execution_count": 46,
      "outputs": [
        {
          "output_type": "execute_result",
          "data": {
            "text/plain": [
              "<matplotlib.collections.PathCollection at 0x7fa8633e4610>"
            ]
          },
          "metadata": {},
          "execution_count": 46
        },
        {
          "output_type": "display_data",
          "data": {
            "text/plain": [
              "<Figure size 432x288 with 1 Axes>"
            ],
            "image/png": "[encoded data removed]"
          },
          "metadata": {
            "needs_background": "light"
          }
        }
      ]
    },
    {
      "cell_type": "markdown",
      "source": [
        "**L2-Regularized Logistic Regression vai weight_decay**"
      ],
      "metadata": {
        "id": "uB1UfCOACtdj"
      }
    },
    {
      "cell_type": "code",
      "source": [
        "class LogisticRegression(torch.nn.Module):\n",
        "  def __init__(self, num_features):\n",
        "    super(LogisticRegression, self).__init__()\n",
        "    self.linear = torch.nn.Linear(num_features, 1)\n",
        "    # initialize weights to zeros here,\n",
        "    # since we used zero weights in the manual approach\n",
        "\n",
        "    # self.linear.weight.detach().zero_()\n",
        "    # self.linear.bias.detach().zero_()\n",
        "    # note: the trailing underscore means \"in-place operation\"\n",
        "\n",
        "  def forward(self,x):\n",
        "    logits = self.linear(x)\n",
        "    probas = torch.sigmoid(logits)\n",
        "    return logits, probas\n"
      ],
      "metadata": {
        "id": "_c-aWCHXCKqr"
      },
      "execution_count": 74,
      "outputs": []
    },
    {
      "cell_type": "code",
      "source": [
        "from matplotlib.colors import ListedColormap\n",
        "import numpy as np\n",
        "\n",
        "def plot_decision_regions(x,y,classifier,resolution=0.02):\n",
        "\n",
        "  # setup marker generator and color map\n",
        "  markers = ('s', 'x', 'o', '^', 'v')\n",
        "  colors = ('red', 'blue', 'lightgreen', 'gray', 'cyan')\n",
        "  cmap = ListedColormap(colors[:len(np.unique(y))])\n",
        "\n",
        "  # plot the decision surface\n",
        "  x1_min, x1_max = x[:,0].min() - 1, x[:,0].max() + 1\n",
        "  x2_min, x2_max = x[:,1].min() - 1, x[:,1].max() + 1\n",
        "  xx1, xx2 = np.meshgrid(np.arange(x1_min, x1_max, resolution),\n",
        "                         (np.arange(x2_min, x2_max, resolution))\n",
        "  )\n",
        "  tensor = torch.tensor(np.array([xx1.ravel(), xx2.ravel()]).T).float()\n",
        "  logits, probas = classifier.forward(tensor)\n",
        "\n",
        "  z = np.argmax(probas.detach().numpy(), axis=1)\n",
        "\n",
        "  z = z.reshape(xx1.shape)\n",
        "  plt.contourf(xx1, xx2, z, alpha=0.4, cmap=cmap)\n",
        "  plt.xlim(xx1.min(), xx1.max())\n",
        "  plt.ylim(xx2.min(), xx2.max())\n",
        "\n",
        "  # plot class samples\n",
        "  for idx, cl in enumerate(np.unique(y)):\n",
        "    plt.scatter(x[y==cl,0],x[y==cl,1],alpha=0.8, color=cmap(idx),edgecolor='black',marker=markers[idx],label=cl)"
      ],
      "metadata": {
        "id": "TmfKSrHnIPmx"
      },
      "execution_count": 75,
      "outputs": []
    },
    {
      "cell_type": "code",
      "source": [
        "def custom_where(cond, x1, x2):\n",
        "  return (cond * x1) + ((1 - cond) * x2)\n",
        "\n",
        "def compute_accuracy(labels, pred_probas):\n",
        "  pred_labels = custom_where((pred_probas > 0.5).float(), 1, 0).view(-1)\n",
        "  acc = torch.sum(pred_labels == labels.view(-1)).float() / labels.size(0)\n",
        "  return acc \n",
        "\n",
        "def train_single_step(model, optimizer,features, labels):\n",
        "  logits, probas = model(features)\n",
        "\n",
        "  # compute gradients\n",
        "  cost = F.binary_cross_entropy(probas, labels, reduction='sum')\n",
        "  optimizer.zero_grad()\n",
        "  cost.backward()\n",
        "\n",
        "  # update weights\n",
        "  optimizer.step()\n",
        "\n",
        "  # logging\n",
        "  logits, pred_probas = model(features)\n",
        "  acc = compute_accuracy(labels, pred_probas)  \n",
        "\n",
        "  return acc, pred_probas"
      ],
      "metadata": {
        "id": "X5Fk45gVEoRw"
      },
      "execution_count": 76,
      "outputs": []
    },
    {
      "cell_type": "code",
      "source": [
        "num_epochs = 30\n",
        "LAMBDA = 0.1\n",
        "x_train = torch.tensor(x, dtype=torch.float32)\n",
        "y_train = torch.tensor(y, dtype=torch.float32).view(-1,1)\n",
        "\n",
        "\n",
        "model = LogisticRegression(num_features=2)\n",
        "\n",
        "# apply L2 regularization\n",
        "optimizer = torch.optim.SGD(model.parameters(),lr=0.1,weight_decay=LAMBDA)\n",
        "\n",
        "for epoch in range(num_epochs):\n",
        "  acc, pred_probas = train_single_step(model, optimizer, x_train, y_train)\n",
        "  print(f'Epoch {epoch+1:03d} | Train ACC: {acc:.3f} | Cost {F.binary_cross_entropy(pred_probas, y_train,reduction=\"sum\")}')"
      ],
      "metadata": {
        "colab": {
          "base_uri": "https://localhost:8080/"
        },
        "id": "hnK8N5XmFaFz",
        "outputId": "d138e7ef-bd93-4c33-ac1d-a2ea571aaed7"
      },
      "execution_count": 77,
      "outputs": [
        {
          "output_type": "stream",
          "name": "stdout",
          "text": [
            "Epoch 001 | Train ACC: 0.810 | Cost 49.10108947753906\n",
            "Epoch 002 | Train ACC: 0.860 | Cost 45.47687530517578\n",
            "Epoch 003 | Train ACC: 0.790 | Cost 43.65675354003906\n",
            "Epoch 004 | Train ACC: 0.870 | Cost 42.52552032470703\n",
            "Epoch 005 | Train ACC: 0.850 | Cost 41.858734130859375\n",
            "Epoch 006 | Train ACC: 0.870 | Cost 41.48147201538086\n",
            "Epoch 007 | Train ACC: 0.850 | Cost 41.26498794555664\n",
            "Epoch 008 | Train ACC: 0.870 | Cost 41.13201141357422\n",
            "Epoch 009 | Train ACC: 0.850 | Cost 41.04372024536133\n",
            "Epoch 010 | Train ACC: 0.860 | Cost 40.98154830932617\n",
            "Epoch 011 | Train ACC: 0.850 | Cost 40.93592071533203\n",
            "Epoch 012 | Train ACC: 0.860 | Cost 40.90163040161133\n",
            "Epoch 013 | Train ACC: 0.860 | Cost 40.87535858154297\n",
            "Epoch 014 | Train ACC: 0.860 | Cost 40.85498046875\n",
            "Epoch 015 | Train ACC: 0.860 | Cost 40.83897018432617\n",
            "Epoch 016 | Train ACC: 0.860 | Cost 40.826263427734375\n",
            "Epoch 017 | Train ACC: 0.860 | Cost 40.81610870361328\n",
            "Epoch 018 | Train ACC: 0.860 | Cost 40.80791473388672\n",
            "Epoch 019 | Train ACC: 0.860 | Cost 40.80126190185547\n",
            "Epoch 020 | Train ACC: 0.860 | Cost 40.79582214355469\n",
            "Epoch 021 | Train ACC: 0.860 | Cost 40.791358947753906\n",
            "Epoch 022 | Train ACC: 0.860 | Cost 40.78767395019531\n",
            "Epoch 023 | Train ACC: 0.860 | Cost 40.78462600708008\n",
            "Epoch 024 | Train ACC: 0.860 | Cost 40.78208923339844\n",
            "Epoch 025 | Train ACC: 0.860 | Cost 40.77997589111328\n",
            "Epoch 026 | Train ACC: 0.860 | Cost 40.7782096862793\n",
            "Epoch 027 | Train ACC: 0.860 | Cost 40.7767219543457\n",
            "Epoch 028 | Train ACC: 0.860 | Cost 40.775482177734375\n",
            "Epoch 029 | Train ACC: 0.860 | Cost 40.77444076538086\n",
            "Epoch 030 | Train ACC: 0.860 | Cost 40.773563385009766\n"
          ]
        }
      ]
    },
    {
      "cell_type": "code",
      "source": [
        "def plot_decision_boundary(model, x_samples):\n",
        "  x_tensor = np.vstack((np.ones_like(x_samples),x_samples))\n",
        "  x_tensor = torch.tensor(x_tensor,dtype=torch.float32)\n",
        "  y_tensor = model.linear.weight @ x_tensor + model.linear.bias\n",
        "\n",
        "  x_tensor = x_tensor.detach().numpy()\n",
        "  y_tensor = y_tensor.detach().numpy()\n",
        "  plt.plot(x_tensor[1,:],y_tensor[0]) "
      ],
      "metadata": {
        "id": "wcFEMacsOAmg"
      },
      "execution_count": 98,
      "outputs": []
    },
    {
      "cell_type": "code",
      "source": [
        "print(f'Model parameters:')\n",
        "print(f' Weights: {model.linear.weight}')\n",
        "print(f' Bias: {model.linear.bias}')\n",
        "# plot_decision_regions(x,y,classifier=model)\n",
        "plot_decision_boundary(model,np.linspace(-2,2))"
      ],
      "metadata": {
        "colab": {
          "base_uri": "https://localhost:8080/",
          "height": 357
        },
        "id": "leiLoxOQHJ1s",
        "outputId": "128009ed-a64c-47ae-822c-ffdd6aef18ae"
      },
      "execution_count": 100,
      "outputs": [
        {
          "output_type": "stream",
          "name": "stdout",
          "text": [
            "Model parameters:\n",
            " Weights: Parameter containing:\n",
            "tensor([[ 4.1358, -0.4182]], requires_grad=True)\n",
            " Bias: Parameter containing:\n",
            "tensor([0.2721], requires_grad=True)\n"
          ]
        },
        {
          "output_type": "display_data",
          "data": {
            "text/plain": [
              "<Figure size 432x288 with 1 Axes>"
            ],
            "image/png": "[encoded data removed]"
          },
          "metadata": {
            "needs_background": "light"
          }
        }
      ]
    },
    {
      "cell_type": "code",
      "source": [],
      "metadata": {
        "id": "ZQUPLFfrJQVa"
      },
      "execution_count": null,
      "outputs": []
    }
  ]
}